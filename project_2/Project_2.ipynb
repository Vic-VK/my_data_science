{
  "cells": [
    {
      "attachments": {},
      "cell_type": "markdown",
      "id": "42289889-bd57-434e-9637-d3e354756316",
      "metadata": {
        "id": "42289889-bd57-434e-9637-d3e354756316"
      },
      "source": [
        "<center> <img src = https://raw.githubusercontent.com/AndreyRysistov/DatasetsForPandas/main/hh%20label.jpg alt=\"drawing\" style=\"width:400px;\">"
      ]
    },
    {
      "attachments": {},
      "cell_type": "markdown",
      "id": "829cb75b-f14e-4ba8-9195-7ba929a7d656",
      "metadata": {
        "id": "829cb75b-f14e-4ba8-9195-7ba929a7d656",
        "tags": []
      },
      "source": [
        "# <center> Проект: Анализ вакансий из HeadHunter\n",
        "   "
      ]
    },
    {
      "cell_type": "code",
      "execution_count": 2,
      "id": "dccfde33-2452-43fb-a8a5-5c6ebc02a71d",
      "metadata": {
        "id": "dccfde33-2452-43fb-a8a5-5c6ebc02a71d"
      },
      "outputs": [],
      "source": [
        "import pandas as pd\n",
        "import psycopg2\n",
        "import warnings\n",
        "warnings.filterwarnings(\"ignore\")"
      ]
    },
    {
      "cell_type": "code",
      "execution_count": 4,
      "id": "G4X_q8KBf7SF",
      "metadata": {
        "id": "G4X_q8KBf7SF"
      },
      "outputs": [],
      "source": [
        "connection = psycopg2.connect(\n",
        "    dbname=DBNAME,\n",
        "    user=USER,\n",
        "    host=HOST,\n",
        "    password=PASSWORD,\n",
        "    port=PORT)"
      ]
    },
    {
      "attachments": {},
      "cell_type": "markdown",
      "id": "0dc6476b-7a00-44f1-ac93-6e3baed33a29",
      "metadata": {
        "id": "0dc6476b-7a00-44f1-ac93-6e3baed33a29"
      },
      "source": [
        "# Юнит 3. Предварительный анализ данных"
      ]
    },
    {
      "attachments": {},
      "cell_type": "markdown",
      "id": "889782b6-8d1c-410e-8920-e57f27917c64",
      "metadata": {
        "id": "889782b6-8d1c-410e-8920-e57f27917c64"
      },
      "source": [
        "1. Напишите запрос, который посчитает количество вакансий в нашей базе (вакансии находятся в таблице vacancies). "
      ]
    },
    {
      "cell_type": "code",
      "execution_count": 34,
      "id": "bc39e68e-ed02-4ee2-9235-7258a2f867a8",
      "metadata": {
        "id": "bc39e68e-ed02-4ee2-9235-7258a2f867a8"
      },
      "outputs": [],
      "source": [
        "# текст запроса\n",
        "query_3_1 = f'''SELECT COUNT(v.id) \n",
        "FROM public.vacancies v'''\n"
      ]
    },
    {
      "cell_type": "code",
      "execution_count": 35,
      "id": "7mAwtsk4hEHY",
      "metadata": {
        "id": "7mAwtsk4hEHY"
      },
      "outputs": [
        {
          "name": "stdout",
          "output_type": "stream",
          "text": [
            "Общее число вакансий в базе данных составляет:  49197\n"
          ]
        }
      ],
      "source": [
        "# результат запроса\n",
        "\n",
        "result = pd.read_sql_query(query_3_1, connection)\n",
        "print('Общее число вакансий в базе данных составляет: ', result.iloc[0, 0])\n"
      ]
    },
    {
      "attachments": {},
      "cell_type": "markdown",
      "id": "b583485d-1f9e-494e-ada4-80ffff7c53d6",
      "metadata": {
        "id": "b583485d-1f9e-494e-ada4-80ffff7c53d6"
      },
      "source": [
        "2. Напишите запрос, который посчитает количество работодателей (таблица employers). "
      ]
    },
    {
      "cell_type": "code",
      "execution_count": 36,
      "id": "5408c52c-3407-4a63-b25b-1aafa2322d28",
      "metadata": {
        "id": "5408c52c-3407-4a63-b25b-1aafa2322d28"
      },
      "outputs": [],
      "source": [
        "# текст запроса\n",
        "\n",
        "query_3_2 = f'''SELECT COUNT(e.id) \n",
        "FROM public.employers e'''"
      ]
    },
    {
      "cell_type": "code",
      "execution_count": 37,
      "id": "jVL4eshKhdqc",
      "metadata": {
        "id": "jVL4eshKhdqc"
      },
      "outputs": [
        {
          "name": "stdout",
          "output_type": "stream",
          "text": [
            "Количество работадателей в базе данных составляет:  23501\n"
          ]
        }
      ],
      "source": [
        "# результат запроса\n",
        "\n",
        "result = pd.read_sql_query(query_3_2, connection)\n",
        "print('Количество работадателей в базе данных составляет: ', result.iloc[0, 0])"
      ]
    },
    {
      "attachments": {},
      "cell_type": "markdown",
      "id": "a2bfff1f-c975-4bf6-84be-2185d79dcb76",
      "metadata": {
        "id": "a2bfff1f-c975-4bf6-84be-2185d79dcb76"
      },
      "source": [
        "3. Посчитате с помощью запроса количество регионов (таблица areas)."
      ]
    },
    {
      "cell_type": "code",
      "execution_count": 38,
      "id": "1m8QJwBYhey6",
      "metadata": {
        "id": "1m8QJwBYhey6"
      },
      "outputs": [],
      "source": [
        "# текст запроса\n",
        "\n",
        "query_3_3 = f'''SELECT COUNT(a.id) \n",
        "FROM public.areas a'''"
      ]
    },
    {
      "cell_type": "code",
      "execution_count": 39,
      "id": "EZsn9tlfhe7f",
      "metadata": {
        "id": "EZsn9tlfhe7f"
      },
      "outputs": [
        {
          "name": "stdout",
          "output_type": "stream",
          "text": [
            "В базе данных встречаюся 1362 региона.\n"
          ]
        }
      ],
      "source": [
        "# результат запроса\n",
        "\n",
        "result = pd.read_sql_query(query_3_3, connection)\n",
        "print(f\"В базе данных встречаюся {result.iloc[0, 0]} региона.\")"
      ]
    },
    {
      "attachments": {},
      "cell_type": "markdown",
      "id": "41bb59f3-53cc-4a67-a5bc-bedf573955e4",
      "metadata": {
        "id": "41bb59f3-53cc-4a67-a5bc-bedf573955e4"
      },
      "source": [
        "4. Посчитате с помощью запроса количество сфер деятельности в базе (таблица industries)."
      ]
    },
    {
      "cell_type": "code",
      "execution_count": 40,
      "id": "d286cf4c-707b-4cd2-9190-7ab3587d04a1",
      "metadata": {
        "id": "d286cf4c-707b-4cd2-9190-7ab3587d04a1"
      },
      "outputs": [],
      "source": [
        "# текст запроса\n",
        "\n",
        "query_3_4 = f'''SELECT COUNT(i.id) \n",
        "FROM public.industries i'''"
      ]
    },
    {
      "cell_type": "code",
      "execution_count": 41,
      "id": "JYAaoZ4qhfzW",
      "metadata": {
        "id": "JYAaoZ4qhfzW"
      },
      "outputs": [
        {
          "name": "stdout",
          "output_type": "stream",
          "text": [
            "В базе данных представлены 294 сферы деятельности\n"
          ]
        }
      ],
      "source": [
        "# результат запроса\n",
        "\n",
        "result = pd.read_sql_query(query_3_4, connection)\n",
        "print(f\"В базе данных представлены {result.iloc[0, 0]} сферы деятельности\")"
      ]
    },
    {
      "attachments": {},
      "cell_type": "markdown",
      "id": "9a8a2181-6914-448b-85f1-38f5f18b8a93",
      "metadata": {
        "id": "9a8a2181-6914-448b-85f1-38f5f18b8a93"
      },
      "source": [
        "***"
      ]
    },
    {
      "attachments": {},
      "cell_type": "markdown",
      "id": "c0ab93ad",
      "metadata": {},
      "source": [
        "***Комментарии и выводы:***\n",
        "\n",
        "- *На этапе предварительного анализа можно заметить довольно значительное количество работадателей и всего в 2 раза больше число вакансий, но также стоит отметить, что не все работадатели, сферы деятельности и территориальные зоны представлены в нашем конкретном перечне вакансий (в таблице vacancies)*"
      ]
    },
    {
      "attachments": {},
      "cell_type": "markdown",
      "id": "8d62a9f3-f64e-4fe7-bdac-c4dffa16155e",
      "metadata": {
        "id": "8d62a9f3-f64e-4fe7-bdac-c4dffa16155e"
      },
      "source": [
        "# Юнит 4. Детальный анализ вакансий"
      ]
    },
    {
      "attachments": {},
      "cell_type": "markdown",
      "id": "93053d3d-b284-481a-9cf7-012d7014c0e0",
      "metadata": {
        "id": "93053d3d-b284-481a-9cf7-012d7014c0e0"
      },
      "source": [
        "1. Напишите запрос, который позволит узнать, сколько (cnt) вакансий в каждом регионе (area).\n",
        "Отсортируйте по количеству вакансий в порядке убывания."
      ]
    },
    {
      "cell_type": "code",
      "execution_count": 42,
      "id": "3f069da6-fdc9-4ae7-b514-fafe2675efd3",
      "metadata": {
        "id": "3f069da6-fdc9-4ae7-b514-fafe2675efd3"
      },
      "outputs": [],
      "source": [
        "# текст запроса\n",
        "\n",
        "query_4_1 = f'''SELECT a.name,\n",
        "COUNT(v.id) -- считаем количество вакансий\n",
        "FROM public.vacancies v\n",
        "JOIN public.areas a ON v.area_id = a.id --соединяем таблицы вакансий и регионов по идентификаторам\n",
        "GROUP BY a.name -- группируем по названием региона\n",
        "ORDER BY COUNT(v.id) DESC -- сортируем по количеству вакансий в порядке убывания\n",
        "LIMIT 5 -- ограничиваем вывод 5-ю первыми значениями'''"
      ]
    },
    {
      "cell_type": "code",
      "execution_count": 43,
      "id": "P7QL86hrjhRJ",
      "metadata": {
        "id": "P7QL86hrjhRJ"
      },
      "outputs": [
        {
          "name": "stdout",
          "output_type": "stream",
          "text": [
            "Пятёрку лидеров по количеству вакансий возглавляют: ['Москва', 'Санкт-Петербург', 'Минск', 'Новосибирск', 'Алматы']\n"
          ]
        }
      ],
      "source": [
        "# результат запроса\n",
        "\n",
        "result = pd.read_sql_query(query_4_1, connection)\n",
        "result_list = list(result.loc[:, 'name'])\n",
        "print(f\"Пятёрку лидеров по количеству вакансий возглавляют: {result_list}\")"
      ]
    },
    {
      "attachments": {},
      "cell_type": "markdown",
      "id": "4266f0b6-1646-492a-88b4-2f6a46502135",
      "metadata": {
        "id": "4266f0b6-1646-492a-88b4-2f6a46502135"
      },
      "source": [
        "2. Напишите запрос, чтобы определить у какого количества вакансий заполнено хотя бы одно из двух полей с зарплатой."
      ]
    },
    {
      "cell_type": "code",
      "execution_count": 44,
      "id": "0c44b350-72eb-4d65-8b54-a1fc449ba9fd",
      "metadata": {
        "id": "0c44b350-72eb-4d65-8b54-a1fc449ba9fd"
      },
      "outputs": [],
      "source": [
        "# текст запроса\n",
        "\n",
        "query_4_2 = f''' SELECT COUNT(v.id)\n",
        "FROM public.vacancies v\n",
        "WHERE v.salary_from IS NOT NULL OR v.salary_to IS NOT NULL -- условия не равенства пустоте хотя бы у одного поля'''"
      ]
    },
    {
      "cell_type": "code",
      "execution_count": 45,
      "id": "rhvwaMDkoWTi",
      "metadata": {
        "id": "rhvwaMDkoWTi"
      },
      "outputs": [
        {
          "name": "stdout",
          "output_type": "stream",
          "text": [
            "Количества вакансий, в которых заполнено хотя бы одно из двух полей с зарплатой, составляют:  24073\n"
          ]
        }
      ],
      "source": [
        "# результат запроса\n",
        "\n",
        "result = pd.read_sql_query(query_4_2, connection)\n",
        "print ('Количества вакансий, в которых заполнено хотя бы одно из двух полей с зарплатой, составляют: ', result.iloc[0, 0])"
      ]
    },
    {
      "attachments": {},
      "cell_type": "markdown",
      "id": "635c4d5d-f323-4c66-b428-50a088120aa0",
      "metadata": {
        "id": "635c4d5d-f323-4c66-b428-50a088120aa0"
      },
      "source": [
        "3. Найдите средние значения для нижней и верхней границы зарплатной вилки. Округлите значения до целого."
      ]
    },
    {
      "cell_type": "code",
      "execution_count": 46,
      "id": "603cdbe4-0ec3-4106-8eaf-c73fcdd29165",
      "metadata": {
        "id": "603cdbe4-0ec3-4106-8eaf-c73fcdd29165"
      },
      "outputs": [],
      "source": [
        "# текст запроса\n",
        "\n",
        "query_4_3 = f''' SELECT ROUND(AVG (v.salary_from), 0) AVG_for_the_lower_limit, --считаем среднее значение для нижней границы зарплатной вилки\n",
        "ROUND(AVG(v.salary_to), 0) AVG_for_the_upper_limit--считаем среднее значение для верхней границы зарплатной вилки\n",
        "FROM public.vacancies v'''"
      ]
    },
    {
      "cell_type": "code",
      "execution_count": 47,
      "id": "pswpAb66ovZZ",
      "metadata": {
        "id": "pswpAb66ovZZ"
      },
      "outputs": [
        {
          "name": "stdout",
          "output_type": "stream",
          "text": [
            "Средние значения для нижней границы зарплатной вилки составляет 71065.0\n",
            "Средние значения для верхней границы зарплатной вилки составляет 110537.0\n"
          ]
        }
      ],
      "source": [
        "# результат запроса\n",
        "\n",
        "result = pd.read_sql_query(query_4_3, connection)\n",
        "print('Средние значения для нижней границы зарплатной вилки составляет', result.loc[0,'avg_for_the_lower_limit'])\n",
        "print('Средние значения для верхней границы зарплатной вилки составляет', result.loc[0,'avg_for_the_upper_limit'])"
      ]
    },
    {
      "attachments": {},
      "cell_type": "markdown",
      "id": "f3fdaec9-5fd3-4260-9cf5-1d7406b628a5",
      "metadata": {
        "id": "f3fdaec9-5fd3-4260-9cf5-1d7406b628a5"
      },
      "source": [
        "4. Напишите запрос, который выведет количество вакансий для каждого сочетания типа рабочего графика (schedule) и типа трудоустройства (employment), используемого в вакансиях. Результат отсортируйте по убыванию количества.\n"
      ]
    },
    {
      "cell_type": "code",
      "execution_count": 48,
      "id": "1ea710ec-871b-431e-9462-c7d0fd87011b",
      "metadata": {
        "id": "1ea710ec-871b-431e-9462-c7d0fd87011b"
      },
      "outputs": [],
      "source": [
        "# текст запроса\n",
        "\n",
        "query_4_4 = f''' SELECT v.schedule ||' - '|| v.employment \"schedule - employment\", -- находим сочетиния типа рабочего графика и типа трудоустройства\n",
        "COUNT(v.schedule ||' - '|| v.employment) -- считаем количество вакансий из полученных сочетаний\n",
        "FROM public.vacancies v\n",
        "GROUP BY v.schedule ||' - '|| v.employment -- группируем по полученным сочетаниям\n",
        "ORDER BY COUNT(v.schedule ||' - '|| v.employment) DESC\n",
        "OFFSET 1 LIMIT 1'''"
      ]
    },
    {
      "cell_type": "code",
      "execution_count": 49,
      "id": "lGUVqavdo4JQ",
      "metadata": {
        "id": "lGUVqavdo4JQ"
      },
      "outputs": [
        {
          "name": "stdout",
          "output_type": "stream",
          "text": [
            "На втором месте по популярности находится сочетание типа рабочего графика и типа трудоустройства:  Удаленная работа - Полная занятость\n"
          ]
        }
      ],
      "source": [
        "# результат запроса\n",
        "\n",
        "result = pd.read_sql_query(query_4_4, connection)\n",
        "print('На втором месте по популярности находится сочетание типа рабочего графика и типа трудоустройства: ', result.iloc[0, 0])\n"
      ]
    },
    {
      "attachments": {},
      "cell_type": "markdown",
      "id": "0136ffee-0ead-4a6b-b608-61d1c753a438",
      "metadata": {
        "id": "0136ffee-0ead-4a6b-b608-61d1c753a438"
      },
      "source": [
        "5. Напишите запрос, выводящий значения поля Требуемый опыт работы (experience) в порядке возрастания количества вакансий, в которых указан данный вариант опыта. "
      ]
    },
    {
      "cell_type": "code",
      "execution_count": 50,
      "id": "5b3a8e79-f7ab-4008-b767-12aea3a205ea",
      "metadata": {
        "id": "5b3a8e79-f7ab-4008-b767-12aea3a205ea"
      },
      "outputs": [],
      "source": [
        "# текст запроса\n",
        "\n",
        "query_4_5 = f''' SELECT v.experience --, \n",
        "--COUNT(v.id) -- считаем количество вакансий по требуемому опыту работы\n",
        "FROM public.vacancies v\n",
        "GROUP BY v.experience -- группируем по требуемому опыту работы\n",
        "ORDER BY COUNT(v.id) ASC'''"
      ]
    },
    {
      "cell_type": "code",
      "execution_count": 51,
      "id": "3Is64Y-hpDpq",
      "metadata": {
        "id": "3Is64Y-hpDpq"
      },
      "outputs": [
        {
          "name": "stdout",
          "output_type": "stream",
          "text": [
            "Взаимосвязь требуемого опыта работы от количества вакансий приведена в следующем возрастающем порядке:  ['Более 6 лет', 'Нет опыта', 'От 3 до 6 лет', 'От 1 года до 3 лет']\n"
          ]
        }
      ],
      "source": [
        "# результат запроса\n",
        "\n",
        "result = pd.read_sql_query(query_4_5, connection)\n",
        "result_list = list(result['experience'])\n",
        "print('Взаимосвязь требуемого опыта работы от количества вакансий приведена в следующем возрастающем порядке: ', result_list)"
      ]
    },
    {
      "attachments": {},
      "cell_type": "markdown",
      "id": "oq2b7n1QpIka",
      "metadata": {
        "id": "oq2b7n1QpIka"
      },
      "source": [
        "***"
      ]
    },
    {
      "attachments": {},
      "cell_type": "markdown",
      "id": "0ffab3b0",
      "metadata": {},
      "source": [
        "***Комментарии и выводы:***\n",
        "\n",
        "*В детальном анализе вакансий заметны следующие тенденции:*\n",
        "\n",
        "- *Пятёрка лидеров по количеству вакансий подтверждает неоспаримую особенность рынка труда в больших и огромных городах (мегаполисах). Cуществует довольно большое количество предложений по трудоустройству (большое количество разных предприятий, разных представительств крупных фирм, торговых площадок, тц, большое количество людей в сфере обслуживания и т.д.), существует конкуренция между работодателями, а у работника есть выбор кому продать свои знания и умения подороже.*\n",
        "\n",
        "- *Чуть больше половины вакансий имеют заполненные значения хотя бы в одном из двух полей с возможной наименьшей и наибольшей зарплатой по данной вакансии. Это может означать не совсем открытую игру работодателя перед соискателем (предложением \"серых зарплат\"), но возможно и желанием скрыть данную информацию от различных структур и конкурентов.*\n",
        "\n",
        "- *Среднее значение для нижней границы зарплат и для  верхней границы зарплат по вакансиям, указывает нам о достойных заработных платах, причем верхний предел зарплат в 1,5 раза больше нижнего.*\n",
        "\n",
        "- *На втором месте по популярности находится сочетание типа рабочего графика и типа трудоустройства:  Удаленная работа - Полная занятость. А самый популярный вариант сочетания: Полный день - Полная занятость. Это преобладающая тендеция работодателей, что работники должны быть в офисе. Но данная тенденция возможно будет изменяться (количество вакансий в 4,5 раза больше на первом месте).*\n",
        "\n",
        "- *Наибольшее количество вакансий представлена с опытом работы от 1 года до 3 лет. Видно, что соискатели с большим опытом более 6 лет не слишком сильно представлены на платформе HH.ru. Скорее всего данные соискатели занимаюся поиском работы исходя из своих наработанных связей.*"
      ]
    },
    {
      "attachments": {},
      "cell_type": "markdown",
      "id": "7ea20ab6-04a7-40a0-adec-443a0e5a42c3",
      "metadata": {
        "id": "7ea20ab6-04a7-40a0-adec-443a0e5a42c3"
      },
      "source": [
        "# Юнит 5. Анализ работодателей"
      ]
    },
    {
      "attachments": {},
      "cell_type": "markdown",
      "id": "968aed80-74ef-4ffb-b5bf-c65b84e9caea",
      "metadata": {
        "id": "968aed80-74ef-4ffb-b5bf-c65b84e9caea"
      },
      "source": [
        "1. Напишите запрос, который позволит узнать, какие работодатели находятся на первом и пятом месте по количеству вакансий."
      ]
    },
    {
      "cell_type": "code",
      "execution_count": 53,
      "id": "f2d62796-d400-4ec1-a675-88112739a50e",
      "metadata": {
        "id": "f2d62796-d400-4ec1-a675-88112739a50e"
      },
      "outputs": [],
      "source": [
        "# текст запроса\n",
        "\n",
        "query_5_1 = f''' (SELECT e.name,\n",
        "COUNT(v.id) -- находим количество вакансий по данному работодателю\n",
        "FROM public.vacancies v\n",
        "JOIN public.employers e ON v.employer_id = e.id -- соединяем таблицы вакансий и работодателей по ключевым полям\n",
        "GROUP BY e.id-- группируем по имени работодателя\n",
        "ORDER BY COUNT(v.id) DESC -- сортируем по количеству вакансий данного работадателя\n",
        "LIMIT 1)\n",
        "UNION ALL--объединяем таблицы\n",
        "(SELECT e.name,\n",
        "COUNT(v.id)\n",
        "FROM public.vacancies v\n",
        "JOIN public.employers e ON v.employer_id = e.id\n",
        "GROUP BY e.id\n",
        "ORDER BY  COUNT DESC\n",
        "OFFSET 4 LIMIT 1)'''\n"
      ]
    },
    {
      "cell_type": "code",
      "execution_count": 54,
      "id": "64tOMkAxqkQk",
      "metadata": {
        "id": "64tOMkAxqkQk"
      },
      "outputs": [
        {
          "name": "stdout",
          "output_type": "stream",
          "text": [
            "На первом месте по количеству вакансий находится - «Яндекс», а на пятом - «Газпром нефть»\n"
          ]
        }
      ],
      "source": [
        "# результат запроса\n",
        "\n",
        "result = pd.read_sql_query(query_5_1, connection)\n",
        "print(f\"На первом месте по количеству вакансий находится - «{result.iloc[0, 0]}», а на пятом - «{result.iloc[1, 0]}»\")\n",
        "\n"
      ]
    },
    {
      "attachments": {},
      "cell_type": "markdown",
      "id": "68377cfc-b378-43dc-ab7d-1195abf2c515",
      "metadata": {
        "id": "68377cfc-b378-43dc-ab7d-1195abf2c515"
      },
      "source": [
        "2. Напишите запрос, который для каждого региона выведет количество работодателей и вакансий в нём.\n",
        "Среди регионов, в которых нет вакансий, найдите тот, в котором наибольшее количество работодателей.\n"
      ]
    },
    {
      "cell_type": "code",
      "execution_count": 55,
      "id": "dd7df27a-e3e8-412e-a21a-5d389b71e891",
      "metadata": {
        "id": "dd7df27a-e3e8-412e-a21a-5d389b71e891"
      },
      "outputs": [],
      "source": [
        "# текст запроса\n",
        "\n",
        "query_5_2 = f''' SELECT a.name,\n",
        "COUNT(e.id) count_emp,\n",
        "COUNT(v.id) count_vac\n",
        "FROM public.areas a\n",
        "JOIN public.employers e ON a.id = e.area -- соединяем таблицы регионов и работодателей\n",
        "LEFT JOIN public.vacancies v ON a.id = v.area_id -- соединяем таблицы регионов и вакансий, чтобы сохранились регионы без вакансий\n",
        "GROUP BY a.id --группируем по регионам\n",
        "HAVING COUNT(v.id) = 0 -- находим регионы с отсутствующими вакансиями\n",
        "ORDER BY COUNT(e.id) DESC\n",
        "LIMIT 1 '''"
      ]
    },
    {
      "cell_type": "code",
      "execution_count": 56,
      "id": "686da173",
      "metadata": {},
      "outputs": [
        {
          "name": "stdout",
          "output_type": "stream",
          "text": [
            "Наибольшее количество работодателей среди регионов, в которых нет вакансий, является:  Россия\n"
          ]
        }
      ],
      "source": [
        "# результат запроса\n",
        "\n",
        "result = pd.read_sql_query(query_5_2, connection)\n",
        "print('Наибольшее количество работодателей среди регионов, в которых нет вакансий, является: ', result.iloc[0, 0])\n"
      ]
    },
    {
      "attachments": {},
      "cell_type": "markdown",
      "id": "f2fe0acb-ab1a-4e15-9326-2560e22d73c1",
      "metadata": {
        "id": "f2fe0acb-ab1a-4e15-9326-2560e22d73c1"
      },
      "source": [
        "3. Для каждого работодателя посчитайте количество регионов, в которых он публикует свои вакансии. Отсортируйте результат по убыванию количества.\n"
      ]
    },
    {
      "cell_type": "code",
      "execution_count": 57,
      "id": "6271f8ad-bd2e-4196-ae4a-5b39c4c1010e",
      "metadata": {
        "id": "6271f8ad-bd2e-4196-ae4a-5b39c4c1010e"
      },
      "outputs": [],
      "source": [
        "# текст запроса\n",
        "\n",
        "query_5_3 = ''' SELECT e.name,\n",
        "COUNT(DISTINCT v.area_id) -- находим количества только оригинальных названий регионов\n",
        "FROM public.vacancies v\n",
        "JOIN public.employers e ON v.employer_id = e.id\n",
        "GROUP BY e.name\n",
        "ORDER BY COUNT(DISTINCT v.area_id) DESC'''"
      ]
    },
    {
      "cell_type": "code",
      "execution_count": 58,
      "id": "1EIvX3HasH4F",
      "metadata": {
        "id": "1EIvX3HasH4F"
      },
      "outputs": [
        {
          "name": "stdout",
          "output_type": "stream",
          "text": [
            " Значение максимального количество регионов, в которых работодатель публикует свои вакансии, составляет:  181\n"
          ]
        },
        {
          "data": {
            "text/html": [
              "<div>\n",
              "<style scoped>\n",
              "    .dataframe tbody tr th:only-of-type {\n",
              "        vertical-align: middle;\n",
              "    }\n",
              "\n",
              "    .dataframe tbody tr th {\n",
              "        vertical-align: top;\n",
              "    }\n",
              "\n",
              "    .dataframe thead th {\n",
              "        text-align: right;\n",
              "    }\n",
              "</style>\n",
              "<table border=\"1\" class=\"dataframe\">\n",
              "  <thead>\n",
              "    <tr style=\"text-align: right;\">\n",
              "      <th></th>\n",
              "      <th>name</th>\n",
              "      <th>count</th>\n",
              "    </tr>\n",
              "  </thead>\n",
              "  <tbody>\n",
              "    <tr>\n",
              "      <th>0</th>\n",
              "      <td>Яндекс</td>\n",
              "      <td>181</td>\n",
              "    </tr>\n",
              "    <tr>\n",
              "      <th>1</th>\n",
              "      <td>Ростелеком</td>\n",
              "      <td>152</td>\n",
              "    </tr>\n",
              "    <tr>\n",
              "      <th>2</th>\n",
              "      <td>Спецремонт</td>\n",
              "      <td>116</td>\n",
              "    </tr>\n",
              "    <tr>\n",
              "      <th>3</th>\n",
              "      <td>Поляков Денис Иванович</td>\n",
              "      <td>88</td>\n",
              "    </tr>\n",
              "    <tr>\n",
              "      <th>4</th>\n",
              "      <td>ООО ЕФИН</td>\n",
              "      <td>71</td>\n",
              "    </tr>\n",
              "    <tr>\n",
              "      <th>...</th>\n",
              "      <td>...</td>\n",
              "      <td>...</td>\n",
              "    </tr>\n",
              "    <tr>\n",
              "      <th>14761</th>\n",
              "      <td>UniSol</td>\n",
              "      <td>1</td>\n",
              "    </tr>\n",
              "    <tr>\n",
              "      <th>14762</th>\n",
              "      <td>UNISTORY LLC</td>\n",
              "      <td>1</td>\n",
              "    </tr>\n",
              "    <tr>\n",
              "      <th>14763</th>\n",
              "      <td>UNIT6</td>\n",
              "      <td>1</td>\n",
              "    </tr>\n",
              "    <tr>\n",
              "      <th>14764</th>\n",
              "      <td>United Distribution</td>\n",
              "      <td>1</td>\n",
              "    </tr>\n",
              "    <tr>\n",
              "      <th>14765</th>\n",
              "      <td>UNITEL LLC</td>\n",
              "      <td>1</td>\n",
              "    </tr>\n",
              "  </tbody>\n",
              "</table>\n",
              "<p>14766 rows × 2 columns</p>\n",
              "</div>"
            ],
            "text/plain": [
              "                         name  count\n",
              "0                      Яндекс    181\n",
              "1                  Ростелеком    152\n",
              "2                  Спецремонт    116\n",
              "3      Поляков Денис Иванович     88\n",
              "4                   ООО ЕФИН      71\n",
              "...                       ...    ...\n",
              "14761                  UniSol      1\n",
              "14762            UNISTORY LLC      1\n",
              "14763                   UNIT6      1\n",
              "14764     United Distribution      1\n",
              "14765              UNITEL LLC      1\n",
              "\n",
              "[14766 rows x 2 columns]"
            ]
          },
          "execution_count": 58,
          "metadata": {},
          "output_type": "execute_result"
        }
      ],
      "source": [
        "# результат запроса\n",
        "\n",
        "result = pd.read_sql_query(query_5_3, connection)\n",
        "print(' Значение максимального количество регионов, в которых работодатель публикует свои вакансии, составляет: ', result.iloc[0, 1])\n",
        "result"
      ]
    },
    {
      "attachments": {},
      "cell_type": "markdown",
      "id": "eab2206d-d95b-468b-8e5f-34381abf0ce7",
      "metadata": {
        "id": "eab2206d-d95b-468b-8e5f-34381abf0ce7"
      },
      "source": [
        "4. Напишите запрос для подсчёта количества работодателей, у которых не указана сфера деятельности. "
      ]
    },
    {
      "cell_type": "code",
      "execution_count": 59,
      "id": "80defb23-bfb1-4a18-8be6-bf36aa7165d5",
      "metadata": {
        "id": "80defb23-bfb1-4a18-8be6-bf36aa7165d5"
      },
      "outputs": [],
      "source": [
        "# текст запроса\n",
        "query_5_4 = f''' SELECT COUNT(e.id)\n",
        "FROM public.employers e\n",
        "LEFT JOIN public.employers_industries e_i ON e.id = e_i.employer_id -- соединяем таблицы работодателей и сфер деятельности, чтобы сохранились работодатели без сфер деятельности\n",
        "WHERE e_i.industry_id IS NULL'''\n"
      ]
    },
    {
      "cell_type": "code",
      "execution_count": 60,
      "id": "Dp_yCx6ysQSu",
      "metadata": {
        "id": "Dp_yCx6ysQSu"
      },
      "outputs": [
        {
          "name": "stdout",
          "output_type": "stream",
          "text": [
            " Количество работодателей, у которых не указана сфера деятельности, составляет:  8419\n"
          ]
        }
      ],
      "source": [
        "# результат запроса\n",
        "\n",
        "result = pd.read_sql_query(query_5_4, connection)\n",
        "print(' Количество работодателей, у которых не указана сфера деятельности, составляет: ', result.iloc[0, 0])\n"
      ]
    },
    {
      "attachments": {},
      "cell_type": "markdown",
      "id": "0112af31-f6b0-4e3b-82ab-71296e752e5e",
      "metadata": {
        "id": "0112af31-f6b0-4e3b-82ab-71296e752e5e"
      },
      "source": [
        "5. Напишите запрос, чтобы узнать название компании, находящейся на третьем месте в алфавитном списке (по названию) компаний, у которых указано четыре сферы деятельности. "
      ]
    },
    {
      "cell_type": "code",
      "execution_count": 68,
      "id": "973b0cfc-a972-470a-8b4a-68744ef220c4",
      "metadata": {
        "id": "973b0cfc-a972-470a-8b4a-68744ef220c4"
      },
      "outputs": [],
      "source": [
        "# текст запроса\n",
        "\n",
        "query_5_5 = f''' SELECT e.name--,\n",
        "--COUNT(e_i.industry_id)\n",
        "FROM public.employers_industries e_i\n",
        "JOIN public.employers e ON e_i.employer_id = e.id -- соединяем таблицы сфер деятельности и работодателей\n",
        "GROUP BY e.id --группируем по id работодателя\n",
        "HAVING COUNT(e_i.industry_id) = 4 -- фильтруем компании с 4-мя сферами деятельности\n",
        "ORDER BY e.name ASC -- сортируем по алфавиту\n",
        "OFFSET 2 LIMIT 1 -- сместиться на два значения и выбрать одно следующее значение'''\n",
        "\n",
        "query_5_5_1 = f''' WITH Em_Count_Industries_of_Employers AS ( -- для круговой диаграммы создаем таблицу работодателей с количеством отмеченных у них сфер деятельности\n",
        "SELECT e.name, \n",
        "COUNT(e_i.industry_id) Count_Industries_of_Employers\n",
        "FROM public.employers_industries e_i\n",
        "RIGHT JOIN public.employers e ON e_i.employer_id = e.id -- соединяем таблицы сфер деятельности и работодателей с незаполнеными строками сферы деятельности\n",
        "GROUP BY e.id --группируем по id работодателя\n",
        "--HAVING COUNT(e_i.industry_id) = 0 \n",
        "ORDER BY e.name ASC) -- сортируем по алфавиту\n",
        "SELECT Count_Industries_of_Employers,\n",
        "COUNT(name)\n",
        "FROM Em_Count_Industries_of_Employers\n",
        "GROUP BY Count_Industries_of_Employers\n",
        "ORDER BY Count_Industries_of_Employers ASC'''"
      ]
    },
    {
      "cell_type": "code",
      "execution_count": 69,
      "id": "xsPtpp8EsaED",
      "metadata": {
        "id": "xsPtpp8EsaED"
      },
      "outputs": [
        {
          "name": "stdout",
          "output_type": "stream",
          "text": [
            "На 3-м месте в алфавитном списке находится компания «2ГИС», у которой указано четыре сферы деятельности.\n"
          ]
        },
        {
          "data": {
            "application/vnd.plotly.v1+json": {
              "config": {
                "plotlyServerURL": "https://plot.ly"
              },
              "data": [
                {
                  "branchvalues": "total",
                  "domain": {
                    "x": [
                      0,
                      1
                    ],
                    "y": [
                      0,
                      1
                    ]
                  },
                  "hovertemplate": "labels=%{label}<br>percent=%{value}<br>parent=%{parent}<br>id=%{id}<extra></extra>",
                  "ids": [
                    "Не указана сфера деятельности",
                    "Указана 1 сфера деятельности",
                    "Указаны 2 сферы деятельности",
                    "Указаны 3 сферы деятельности",
                    "Указаны 4 сферы деятельности",
                    "Указаны 5 сфер деятельности"
                  ],
                  "labels": [
                    "Не указана сфера деятельности",
                    "Указана 1 сфера деятельности",
                    "Указаны 2 сферы деятельности",
                    "Указаны 3 сферы деятельности",
                    "Указаны 4 сферы деятельности",
                    "Указаны 5 сфер деятельности"
                  ],
                  "name": "",
                  "parents": [
                    "",
                    "",
                    "",
                    "",
                    "",
                    ""
                  ],
                  "type": "sunburst",
                  "values": [
                    35.8,
                    27.5,
                    15.5,
                    11.1,
                    4.8,
                    5.3
                  ]
                }
              ],
              "layout": {
                "height": 700,
                "legend": {
                  "tracegroupgap": 0
                },
                "template": {
                  "data": {
                    "bar": [
                      {
                        "error_x": {
                          "color": "#2a3f5f"
                        },
                        "error_y": {
                          "color": "#2a3f5f"
                        },
                        "marker": {
                          "line": {
                            "color": "#E5ECF6",
                            "width": 0.5
                          },
                          "pattern": {
                            "fillmode": "overlay",
                            "size": 10,
                            "solidity": 0.2
                          }
                        },
                        "type": "bar"
                      }
                    ],
                    "barpolar": [
                      {
                        "marker": {
                          "line": {
                            "color": "#E5ECF6",
                            "width": 0.5
                          },
                          "pattern": {
                            "fillmode": "overlay",
                            "size": 10,
                            "solidity": 0.2
                          }
                        },
                        "type": "barpolar"
                      }
                    ],
                    "carpet": [
                      {
                        "aaxis": {
                          "endlinecolor": "#2a3f5f",
                          "gridcolor": "white",
                          "linecolor": "white",
                          "minorgridcolor": "white",
                          "startlinecolor": "#2a3f5f"
                        },
                        "baxis": {
                          "endlinecolor": "#2a3f5f",
                          "gridcolor": "white",
                          "linecolor": "white",
                          "minorgridcolor": "white",
                          "startlinecolor": "#2a3f5f"
                        },
                        "type": "carpet"
                      }
                    ],
                    "choropleth": [
                      {
                        "colorbar": {
                          "outlinewidth": 0,
                          "ticks": ""
                        },
                        "type": "choropleth"
                      }
                    ],
                    "contour": [
                      {
                        "colorbar": {
                          "outlinewidth": 0,
                          "ticks": ""
                        },
                        "colorscale": [
                          [
                            0,
                            "#0d0887"
                          ],
                          [
                            0.1111111111111111,
                            "#46039f"
                          ],
                          [
                            0.2222222222222222,
                            "#7201a8"
                          ],
                          [
                            0.3333333333333333,
                            "#9c179e"
                          ],
                          [
                            0.4444444444444444,
                            "#bd3786"
                          ],
                          [
                            0.5555555555555556,
                            "#d8576b"
                          ],
                          [
                            0.6666666666666666,
                            "#ed7953"
                          ],
                          [
                            0.7777777777777778,
                            "#fb9f3a"
                          ],
                          [
                            0.8888888888888888,
                            "#fdca26"
                          ],
                          [
                            1,
                            "#f0f921"
                          ]
                        ],
                        "type": "contour"
                      }
                    ],
                    "contourcarpet": [
                      {
                        "colorbar": {
                          "outlinewidth": 0,
                          "ticks": ""
                        },
                        "type": "contourcarpet"
                      }
                    ],
                    "heatmap": [
                      {
                        "colorbar": {
                          "outlinewidth": 0,
                          "ticks": ""
                        },
                        "colorscale": [
                          [
                            0,
                            "#0d0887"
                          ],
                          [
                            0.1111111111111111,
                            "#46039f"
                          ],
                          [
                            0.2222222222222222,
                            "#7201a8"
                          ],
                          [
                            0.3333333333333333,
                            "#9c179e"
                          ],
                          [
                            0.4444444444444444,
                            "#bd3786"
                          ],
                          [
                            0.5555555555555556,
                            "#d8576b"
                          ],
                          [
                            0.6666666666666666,
                            "#ed7953"
                          ],
                          [
                            0.7777777777777778,
                            "#fb9f3a"
                          ],
                          [
                            0.8888888888888888,
                            "#fdca26"
                          ],
                          [
                            1,
                            "#f0f921"
                          ]
                        ],
                        "type": "heatmap"
                      }
                    ],
                    "heatmapgl": [
                      {
                        "colorbar": {
                          "outlinewidth": 0,
                          "ticks": ""
                        },
                        "colorscale": [
                          [
                            0,
                            "#0d0887"
                          ],
                          [
                            0.1111111111111111,
                            "#46039f"
                          ],
                          [
                            0.2222222222222222,
                            "#7201a8"
                          ],
                          [
                            0.3333333333333333,
                            "#9c179e"
                          ],
                          [
                            0.4444444444444444,
                            "#bd3786"
                          ],
                          [
                            0.5555555555555556,
                            "#d8576b"
                          ],
                          [
                            0.6666666666666666,
                            "#ed7953"
                          ],
                          [
                            0.7777777777777778,
                            "#fb9f3a"
                          ],
                          [
                            0.8888888888888888,
                            "#fdca26"
                          ],
                          [
                            1,
                            "#f0f921"
                          ]
                        ],
                        "type": "heatmapgl"
                      }
                    ],
                    "histogram": [
                      {
                        "marker": {
                          "pattern": {
                            "fillmode": "overlay",
                            "size": 10,
                            "solidity": 0.2
                          }
                        },
                        "type": "histogram"
                      }
                    ],
                    "histogram2d": [
                      {
                        "colorbar": {
                          "outlinewidth": 0,
                          "ticks": ""
                        },
                        "colorscale": [
                          [
                            0,
                            "#0d0887"
                          ],
                          [
                            0.1111111111111111,
                            "#46039f"
                          ],
                          [
                            0.2222222222222222,
                            "#7201a8"
                          ],
                          [
                            0.3333333333333333,
                            "#9c179e"
                          ],
                          [
                            0.4444444444444444,
                            "#bd3786"
                          ],
                          [
                            0.5555555555555556,
                            "#d8576b"
                          ],
                          [
                            0.6666666666666666,
                            "#ed7953"
                          ],
                          [
                            0.7777777777777778,
                            "#fb9f3a"
                          ],
                          [
                            0.8888888888888888,
                            "#fdca26"
                          ],
                          [
                            1,
                            "#f0f921"
                          ]
                        ],
                        "type": "histogram2d"
                      }
                    ],
                    "histogram2dcontour": [
                      {
                        "colorbar": {
                          "outlinewidth": 0,
                          "ticks": ""
                        },
                        "colorscale": [
                          [
                            0,
                            "#0d0887"
                          ],
                          [
                            0.1111111111111111,
                            "#46039f"
                          ],
                          [
                            0.2222222222222222,
                            "#7201a8"
                          ],
                          [
                            0.3333333333333333,
                            "#9c179e"
                          ],
                          [
                            0.4444444444444444,
                            "#bd3786"
                          ],
                          [
                            0.5555555555555556,
                            "#d8576b"
                          ],
                          [
                            0.6666666666666666,
                            "#ed7953"
                          ],
                          [
                            0.7777777777777778,
                            "#fb9f3a"
                          ],
                          [
                            0.8888888888888888,
                            "#fdca26"
                          ],
                          [
                            1,
                            "#f0f921"
                          ]
                        ],
                        "type": "histogram2dcontour"
                      }
                    ],
                    "mesh3d": [
                      {
                        "colorbar": {
                          "outlinewidth": 0,
                          "ticks": ""
                        },
                        "type": "mesh3d"
                      }
                    ],
                    "parcoords": [
                      {
                        "line": {
                          "colorbar": {
                            "outlinewidth": 0,
                            "ticks": ""
                          }
                        },
                        "type": "parcoords"
                      }
                    ],
                    "pie": [
                      {
                        "automargin": true,
                        "type": "pie"
                      }
                    ],
                    "scatter": [
                      {
                        "fillpattern": {
                          "fillmode": "overlay",
                          "size": 10,
                          "solidity": 0.2
                        },
                        "type": "scatter"
                      }
                    ],
                    "scatter3d": [
                      {
                        "line": {
                          "colorbar": {
                            "outlinewidth": 0,
                            "ticks": ""
                          }
                        },
                        "marker": {
                          "colorbar": {
                            "outlinewidth": 0,
                            "ticks": ""
                          }
                        },
                        "type": "scatter3d"
                      }
                    ],
                    "scattercarpet": [
                      {
                        "marker": {
                          "colorbar": {
                            "outlinewidth": 0,
                            "ticks": ""
                          }
                        },
                        "type": "scattercarpet"
                      }
                    ],
                    "scattergeo": [
                      {
                        "marker": {
                          "colorbar": {
                            "outlinewidth": 0,
                            "ticks": ""
                          }
                        },
                        "type": "scattergeo"
                      }
                    ],
                    "scattergl": [
                      {
                        "marker": {
                          "colorbar": {
                            "outlinewidth": 0,
                            "ticks": ""
                          }
                        },
                        "type": "scattergl"
                      }
                    ],
                    "scattermapbox": [
                      {
                        "marker": {
                          "colorbar": {
                            "outlinewidth": 0,
                            "ticks": ""
                          }
                        },
                        "type": "scattermapbox"
                      }
                    ],
                    "scatterpolar": [
                      {
                        "marker": {
                          "colorbar": {
                            "outlinewidth": 0,
                            "ticks": ""
                          }
                        },
                        "type": "scatterpolar"
                      }
                    ],
                    "scatterpolargl": [
                      {
                        "marker": {
                          "colorbar": {
                            "outlinewidth": 0,
                            "ticks": ""
                          }
                        },
                        "type": "scatterpolargl"
                      }
                    ],
                    "scatterternary": [
                      {
                        "marker": {
                          "colorbar": {
                            "outlinewidth": 0,
                            "ticks": ""
                          }
                        },
                        "type": "scatterternary"
                      }
                    ],
                    "surface": [
                      {
                        "colorbar": {
                          "outlinewidth": 0,
                          "ticks": ""
                        },
                        "colorscale": [
                          [
                            0,
                            "#0d0887"
                          ],
                          [
                            0.1111111111111111,
                            "#46039f"
                          ],
                          [
                            0.2222222222222222,
                            "#7201a8"
                          ],
                          [
                            0.3333333333333333,
                            "#9c179e"
                          ],
                          [
                            0.4444444444444444,
                            "#bd3786"
                          ],
                          [
                            0.5555555555555556,
                            "#d8576b"
                          ],
                          [
                            0.6666666666666666,
                            "#ed7953"
                          ],
                          [
                            0.7777777777777778,
                            "#fb9f3a"
                          ],
                          [
                            0.8888888888888888,
                            "#fdca26"
                          ],
                          [
                            1,
                            "#f0f921"
                          ]
                        ],
                        "type": "surface"
                      }
                    ],
                    "table": [
                      {
                        "cells": {
                          "fill": {
                            "color": "#EBF0F8"
                          },
                          "line": {
                            "color": "white"
                          }
                        },
                        "header": {
                          "fill": {
                            "color": "#C8D4E3"
                          },
                          "line": {
                            "color": "white"
                          }
                        },
                        "type": "table"
                      }
                    ]
                  },
                  "layout": {
                    "annotationdefaults": {
                      "arrowcolor": "#2a3f5f",
                      "arrowhead": 0,
                      "arrowwidth": 1
                    },
                    "autotypenumbers": "strict",
                    "coloraxis": {
                      "colorbar": {
                        "outlinewidth": 0,
                        "ticks": ""
                      }
                    },
                    "colorscale": {
                      "diverging": [
                        [
                          0,
                          "#8e0152"
                        ],
                        [
                          0.1,
                          "#c51b7d"
                        ],
                        [
                          0.2,
                          "#de77ae"
                        ],
                        [
                          0.3,
                          "#f1b6da"
                        ],
                        [
                          0.4,
                          "#fde0ef"
                        ],
                        [
                          0.5,
                          "#f7f7f7"
                        ],
                        [
                          0.6,
                          "#e6f5d0"
                        ],
                        [
                          0.7,
                          "#b8e186"
                        ],
                        [
                          0.8,
                          "#7fbc41"
                        ],
                        [
                          0.9,
                          "#4d9221"
                        ],
                        [
                          1,
                          "#276419"
                        ]
                      ],
                      "sequential": [
                        [
                          0,
                          "#0d0887"
                        ],
                        [
                          0.1111111111111111,
                          "#46039f"
                        ],
                        [
                          0.2222222222222222,
                          "#7201a8"
                        ],
                        [
                          0.3333333333333333,
                          "#9c179e"
                        ],
                        [
                          0.4444444444444444,
                          "#bd3786"
                        ],
                        [
                          0.5555555555555556,
                          "#d8576b"
                        ],
                        [
                          0.6666666666666666,
                          "#ed7953"
                        ],
                        [
                          0.7777777777777778,
                          "#fb9f3a"
                        ],
                        [
                          0.8888888888888888,
                          "#fdca26"
                        ],
                        [
                          1,
                          "#f0f921"
                        ]
                      ],
                      "sequentialminus": [
                        [
                          0,
                          "#0d0887"
                        ],
                        [
                          0.1111111111111111,
                          "#46039f"
                        ],
                        [
                          0.2222222222222222,
                          "#7201a8"
                        ],
                        [
                          0.3333333333333333,
                          "#9c179e"
                        ],
                        [
                          0.4444444444444444,
                          "#bd3786"
                        ],
                        [
                          0.5555555555555556,
                          "#d8576b"
                        ],
                        [
                          0.6666666666666666,
                          "#ed7953"
                        ],
                        [
                          0.7777777777777778,
                          "#fb9f3a"
                        ],
                        [
                          0.8888888888888888,
                          "#fdca26"
                        ],
                        [
                          1,
                          "#f0f921"
                        ]
                      ]
                    },
                    "colorway": [
                      "#636efa",
                      "#EF553B",
                      "#00cc96",
                      "#ab63fa",
                      "#FFA15A",
                      "#19d3f3",
                      "#FF6692",
                      "#B6E880",
                      "#FF97FF",
                      "#FECB52"
                    ],
                    "font": {
                      "color": "#2a3f5f"
                    },
                    "geo": {
                      "bgcolor": "white",
                      "lakecolor": "white",
                      "landcolor": "#E5ECF6",
                      "showlakes": true,
                      "showland": true,
                      "subunitcolor": "white"
                    },
                    "hoverlabel": {
                      "align": "left"
                    },
                    "hovermode": "closest",
                    "mapbox": {
                      "style": "light"
                    },
                    "paper_bgcolor": "white",
                    "plot_bgcolor": "#E5ECF6",
                    "polar": {
                      "angularaxis": {
                        "gridcolor": "white",
                        "linecolor": "white",
                        "ticks": ""
                      },
                      "bgcolor": "#E5ECF6",
                      "radialaxis": {
                        "gridcolor": "white",
                        "linecolor": "white",
                        "ticks": ""
                      }
                    },
                    "scene": {
                      "xaxis": {
                        "backgroundcolor": "#E5ECF6",
                        "gridcolor": "white",
                        "gridwidth": 2,
                        "linecolor": "white",
                        "showbackground": true,
                        "ticks": "",
                        "zerolinecolor": "white"
                      },
                      "yaxis": {
                        "backgroundcolor": "#E5ECF6",
                        "gridcolor": "white",
                        "gridwidth": 2,
                        "linecolor": "white",
                        "showbackground": true,
                        "ticks": "",
                        "zerolinecolor": "white"
                      },
                      "zaxis": {
                        "backgroundcolor": "#E5ECF6",
                        "gridcolor": "white",
                        "gridwidth": 2,
                        "linecolor": "white",
                        "showbackground": true,
                        "ticks": "",
                        "zerolinecolor": "white"
                      }
                    },
                    "shapedefaults": {
                      "line": {
                        "color": "#2a3f5f"
                      }
                    },
                    "ternary": {
                      "aaxis": {
                        "gridcolor": "white",
                        "linecolor": "white",
                        "ticks": ""
                      },
                      "baxis": {
                        "gridcolor": "white",
                        "linecolor": "white",
                        "ticks": ""
                      },
                      "bgcolor": "#E5ECF6",
                      "caxis": {
                        "gridcolor": "white",
                        "linecolor": "white",
                        "ticks": ""
                      }
                    },
                    "title": {
                      "x": 0.05
                    },
                    "xaxis": {
                      "automargin": true,
                      "gridcolor": "white",
                      "linecolor": "white",
                      "ticks": "",
                      "title": {
                        "standoff": 15
                      },
                      "zerolinecolor": "white",
                      "zerolinewidth": 2
                    },
                    "yaxis": {
                      "automargin": true,
                      "gridcolor": "white",
                      "linecolor": "white",
                      "ticks": "",
                      "title": {
                        "standoff": 15
                      },
                      "zerolinecolor": "white",
                      "zerolinewidth": 2
                    }
                  }
                },
                "title": {
                  "text": "Сколько сфер деятельности указывают компании-работадатели."
                },
                "width": 615
              }
            }
          },
          "metadata": {},
          "output_type": "display_data"
        }
      ],
      "source": [
        "# результат запроса\n",
        "\n",
        "result = pd.read_sql_query(query_5_5, connection)\n",
        "print(f\"На 3-м месте в алфавитном списке находится компания «{result.iloc[0, 0]}», у которой указано четыре сферы деятельности.\")\n",
        "\n",
        "# Для лучшего понимания указывают ли работодатели сферу деятельности и количество отмеченных сфер деятельности, построим круговую диаграмму\n",
        "import plotly.express as px\n",
        "\n",
        "result_1 = pd.read_sql_query(query_5_5_1, connection)\n",
        "result_1['percent'] = round(result_1['count']/(result_1['count'].sum())*100, 1)\n",
        "labels = {0:'Не указана сфера деятельности', 1:'Указана 1 сфера деятельности', 2:'Указаны 2 сферы деятельности',3:'Указаны 3 сферы деятельности', 4:'Указаны 4 сферы деятельности', 5:'Указаны 5 сфер деятельности'}\n",
        "result_1['count_industries_of_employers'] = result_1['count_industries_of_employers'].replace(labels)\n",
        "fig = px.sunburst(data_frame=result_1, path=['count_industries_of_employers'], values='percent', width=615, height=700, \n",
        "                  title=\"Сколько сфер деятельности указывают компании-работадатели.\")\n",
        "                  #labels = {0:'Не указана сфера деятельности', 1:'Указана одна сфера деятельности', 2:'Указаны две сферы деятельности', 3:'Указаны три сферы деятельности', 4:'Указаны четыре сферы деятельности', 5:'Указаны пять сфер деятельности'})\n",
        "                 # names=['Не указана сфера деятельности', 'Указана одна сфера деятельности', 'Указаны две сферы деятельности', 'Указаны три сферы деятельности', 'Указаны четыре сферы деятельности', 'Указаны пять сфер деятельности'])\n",
        "fig.show(\"png\")\n",
        "#result_1"
      ]
    },
    {
      "attachments": {},
      "cell_type": "markdown",
      "id": "3bfcfdaf-755d-4d2b-8ed8-326201dc07ab",
      "metadata": {
        "id": "3bfcfdaf-755d-4d2b-8ed8-326201dc07ab"
      },
      "source": [
        "6. С помощью запроса выясните, у какого количества работодателей в качестве сферы деятельности указана Разработка программного обеспечения.\n"
      ]
    },
    {
      "cell_type": "code",
      "execution_count": 70,
      "id": "ad3f270f-2991-47eb-929b-e8f88a55b0d1",
      "metadata": {
        "id": "ad3f270f-2991-47eb-929b-e8f88a55b0d1"
      },
      "outputs": [],
      "source": [
        "# текст запроса\n",
        "\n",
        "query_5_6 = f''' SELECT\n",
        "COUNT(e.id)\n",
        "FROM public.employers_industries e_i\n",
        "JOIN public.employers e ON e_i.employer_id = e.id -- соединяем таблицы сфер деятельности и работодателей\n",
        "JOIN public.industries i ON e_i.industry_id = i.id-- соединяем таблицы сфер деятельности и расшифровки id сфер деятельности\n",
        "WHERE i.name LIKE '%Разработка программного обеспечения%' '''"
      ]
    },
    {
      "cell_type": "code",
      "execution_count": 71,
      "id": "H72qxWM0shPR",
      "metadata": {
        "id": "H72qxWM0shPR"
      },
      "outputs": [
        {
          "name": "stdout",
          "output_type": "stream",
          "text": [
            "3553 компании задействованы в сфере деятельности «Разработка программного обеспечения».\n"
          ]
        }
      ],
      "source": [
        "# результат запроса\n",
        "\n",
        "result = pd.read_sql_query(query_5_6, connection)\n",
        "print(f\"{result.iloc[0, 0]} компании задействованы в сфере деятельности «Разработка программного обеспечения».\")\n"
      ]
    },
    {
      "attachments": {},
      "cell_type": "markdown",
      "id": "7b02bb86-0546-40fb-94a4-242f050a5c57",
      "metadata": {
        "id": "7b02bb86-0546-40fb-94a4-242f050a5c57"
      },
      "source": [
        "7. Для компании «Яндекс» выведите список регионов-миллионников, в которых представлены вакансии компании, вместе с количеством вакансий в этих регионах. Также добавьте строку Total с общим количеством вакансий компании. Результат отсортируйте по возрастанию количества.\n",
        "\n",
        "Список городов-милионников надо взять [отсюда](https://ru.wikipedia.org/wiki/%D0%93%D0%BE%D1%80%D0%BE%D0%B4%D0%B0-%D0%BC%D0%B8%D0%BB%D0%BB%D0%B8%D0%BE%D0%BD%D0%B5%D1%80%D1%8B_%D0%A0%D0%BE%D1%81%D1%81%D0%B8%D0%B8). \n",
        "\n",
        "Если возникнут трудности с этим задание посмотрите материалы модуля  PYTHON-17. Как получать данные из веб-источников и API. "
      ]
    },
    {
      "cell_type": "code",
      "execution_count": 72,
      "id": "ZdfrL6gIs1Pn",
      "metadata": {
        "id": "ZdfrL6gIs1Pn"
      },
      "outputs": [],
      "source": [
        "# код для получения списка городов-милионников\n",
        "\n",
        "import requests\n",
        "from bs4 import BeautifulSoup\n",
        "\n",
        "url = 'https://ru.wikipedia.org/wiki/Города-миллионеры_России' #ссылка на статью из Wikipedia про города-миллионики в России\n",
        "response = requests.get(url) #Выполняем GET-запрос, содержимое ответа присваивается переменной response\n",
        "page = BeautifulSoup(response.text, 'html.parser') # Создаём объект BeautifulSoup, указывая html-парсер\n",
        "blank_for_the_list =  page.select('table.standard.sortable > tbody > tr > td > a') # получаем обрезки строк (заготовку) из таблицы преобразованной через объект BeautifulSoup\n",
        "#s = page.find_all('standard sortable') #(c find и find_all не работает)\n",
        "list_black=list(map(str,blank_for_the_list)) # переводим каждый кусок строки в строковую переменную и помещаем в список\n",
        "\n",
        "import re # вызываем библиотеку регулярных выражений\n",
        "\n",
        "million_cities=[]\n",
        "for elem in list_black:\n",
        "    million_cities+= re.findall(r'>(\\w*\\s*\\S*)<',elem) # суммируем два списка  million_cities(от предыдущей итерации) и список, полученный при отсечении всего ненужного из списка blank_for_the_list (из заготовки) по элементно  \n",
        "str_million_cities = \"'\"+\"', '\".join(million_cities)+\"'\" # преобразуем список в строку\n",
        "\n",
        "#million_cities_=pd.Series(data=million_cities, name='name_million_cities')\n",
        "#print(str_million_cities)\n",
        "#print(type(str_million_cities))\n",
        "#print(len(million_cities)) \n",
        "#print(million_cities)   \n",
        "#print(blank_for_the_list)\n",
        "#print(list_black)\n",
        "#print(page)"
      ]
    },
    {
      "cell_type": "code",
      "execution_count": 73,
      "id": "5a0e32a4-e68a-4365-8a39-2fe24c542c36",
      "metadata": {
        "id": "5a0e32a4-e68a-4365-8a39-2fe24c542c36"
      },
      "outputs": [],
      "source": [
        "# текст запроса\n",
        "\n",
        "query_5_7 = f''' SELECT a.name,\n",
        "COUNT(v.id) count\n",
        "FROM public.vacancies v\n",
        "JOIN public.areas a ON v.area_id = a.id\n",
        "JOIN public.employers e ON v.employer_id = e.id\n",
        "WHERE e.name = 'Яндекс' AND a.name in ({str_million_cities})\n",
        "GROUP BY a.id\n",
        "UNION\n",
        "SELECT 'Total', COUNT(v.id)\n",
        "FROM public.vacancies v\n",
        "JOIN public.areas a ON v.area_id = a.id\n",
        "JOIN public.employers e ON v.employer_id = e.id\n",
        "WHERE e.name = 'Яндекс' AND a.name in ({str_million_cities})\n",
        "ORDER BY count ASC'''"
      ]
    },
    {
      "cell_type": "code",
      "execution_count": 74,
      "id": "ttPhiO1rsvPq",
      "metadata": {
        "id": "ttPhiO1rsvPq"
      },
      "outputs": [
        {
          "data": {
            "text/html": [
              "<div>\n",
              "<style scoped>\n",
              "    .dataframe tbody tr th:only-of-type {\n",
              "        vertical-align: middle;\n",
              "    }\n",
              "\n",
              "    .dataframe tbody tr th {\n",
              "        vertical-align: top;\n",
              "    }\n",
              "\n",
              "    .dataframe thead th {\n",
              "        text-align: right;\n",
              "    }\n",
              "</style>\n",
              "<table border=\"1\" class=\"dataframe\">\n",
              "  <thead>\n",
              "    <tr style=\"text-align: right;\">\n",
              "      <th></th>\n",
              "      <th>name</th>\n",
              "      <th>count</th>\n",
              "    </tr>\n",
              "  </thead>\n",
              "  <tbody>\n",
              "    <tr>\n",
              "      <th>0</th>\n",
              "      <td>Омск</td>\n",
              "      <td>21</td>\n",
              "    </tr>\n",
              "    <tr>\n",
              "      <th>1</th>\n",
              "      <td>Челябинск</td>\n",
              "      <td>22</td>\n",
              "    </tr>\n",
              "    <tr>\n",
              "      <th>2</th>\n",
              "      <td>Красноярск</td>\n",
              "      <td>23</td>\n",
              "    </tr>\n",
              "    <tr>\n",
              "      <th>3</th>\n",
              "      <td>Волгоград</td>\n",
              "      <td>24</td>\n",
              "    </tr>\n",
              "    <tr>\n",
              "      <th>4</th>\n",
              "      <td>Пермь</td>\n",
              "      <td>25</td>\n",
              "    </tr>\n",
              "    <tr>\n",
              "      <th>5</th>\n",
              "      <td>Казань</td>\n",
              "      <td>25</td>\n",
              "    </tr>\n",
              "    <tr>\n",
              "      <th>6</th>\n",
              "      <td>Ростов-на-Дону</td>\n",
              "      <td>25</td>\n",
              "    </tr>\n",
              "    <tr>\n",
              "      <th>7</th>\n",
              "      <td>Уфа</td>\n",
              "      <td>26</td>\n",
              "    </tr>\n",
              "    <tr>\n",
              "      <th>8</th>\n",
              "      <td>Самара</td>\n",
              "      <td>26</td>\n",
              "    </tr>\n",
              "    <tr>\n",
              "      <th>9</th>\n",
              "      <td>Краснодар</td>\n",
              "      <td>30</td>\n",
              "    </tr>\n",
              "    <tr>\n",
              "      <th>10</th>\n",
              "      <td>Воронеж</td>\n",
              "      <td>32</td>\n",
              "    </tr>\n",
              "    <tr>\n",
              "      <th>11</th>\n",
              "      <td>Новосибирск</td>\n",
              "      <td>35</td>\n",
              "    </tr>\n",
              "    <tr>\n",
              "      <th>12</th>\n",
              "      <td>Нижний Новгород</td>\n",
              "      <td>36</td>\n",
              "    </tr>\n",
              "    <tr>\n",
              "      <th>13</th>\n",
              "      <td>Екатеринбург</td>\n",
              "      <td>39</td>\n",
              "    </tr>\n",
              "    <tr>\n",
              "      <th>14</th>\n",
              "      <td>Санкт-Петербург</td>\n",
              "      <td>42</td>\n",
              "    </tr>\n",
              "    <tr>\n",
              "      <th>15</th>\n",
              "      <td>Москва</td>\n",
              "      <td>54</td>\n",
              "    </tr>\n",
              "    <tr>\n",
              "      <th>16</th>\n",
              "      <td>Total</td>\n",
              "      <td>485</td>\n",
              "    </tr>\n",
              "  </tbody>\n",
              "</table>\n",
              "</div>"
            ],
            "text/plain": [
              "               name  count\n",
              "0              Омск     21\n",
              "1         Челябинск     22\n",
              "2        Красноярск     23\n",
              "3         Волгоград     24\n",
              "4             Пермь     25\n",
              "5            Казань     25\n",
              "6    Ростов-на-Дону     25\n",
              "7               Уфа     26\n",
              "8            Самара     26\n",
              "9         Краснодар     30\n",
              "10          Воронеж     32\n",
              "11      Новосибирск     35\n",
              "12  Нижний Новгород     36\n",
              "13     Екатеринбург     39\n",
              "14  Санкт-Петербург     42\n",
              "15           Москва     54\n",
              "16            Total    485"
            ]
          },
          "execution_count": 74,
          "metadata": {},
          "output_type": "execute_result"
        }
      ],
      "source": [
        "# результат запроса\n",
        "\n",
        "result = pd.read_sql_query(query_5_7, connection) \n",
        "result"
      ]
    },
    {
      "attachments": {},
      "cell_type": "markdown",
      "id": "04966e40-3bc3-4dc8-9ba2-e80580ce3abc",
      "metadata": {
        "id": "04966e40-3bc3-4dc8-9ba2-e80580ce3abc"
      },
      "source": [
        "***"
      ]
    },
    {
      "cell_type": "markdown",
      "id": "7ab9a1bc",
      "metadata": {},
      "source": [
        "***Комментарии и выводы:***\n",
        "\n",
        "*На этапе анализа работадателей заметны следующие тенденции:*\n",
        "\n",
        "- *Наибольшее количество вакансий отобранное в нашем конкретном перечне приходится на крупные компании: в IT сфере (\"Яндекс\", \"Первый Бит\"), в сфере телефонных и интернет коммуникаций (\"Ростелеком\", \"МТС\".), крупных банков(\"Тинькофф\", \"СБЕР\"), электронных торговых площадок (\"Ozon\"), так же есть представители сырьевой отрасли(\"Газпром нефть\", \"Норникель\").* \n",
        "\n",
        "- *Заметно, что вакансии строго привязаны к определенному месту (в основном конкретное место положение работадателя). В этом ничего удивительного нет, так как в основном собеседования проводят на территории работодателя, да и как уже отмечалось - преобладающая тендеция работодателей, что работники должны быть в офисе (или на территории работодателя). Тройка лидирующих регионов по числу работадателей разделяют следующие регионы: Москва, Санкт-Петербург, Минск.*\n",
        "\n",
        "- *Значение максимального количество регионов, в которых работодатель публикует свои вакансии указывает нам на крупные компании, в которых компания осуществляет свою деятельность и в этих регионах есть представительства и широкая сеть филиалов. Такие крупные игроки в нашей базе данных: \"Яндекс\", \"Ростелеком\", \"Спецремонт\".*\n",
        "\n",
        "- *На примере компании \"Яндекс\" можно проследить вполне объяснимую закономерность, о которой упониналось в выводах к детальному анализу об особенности рынка труда в больших и огромных городах (мегаполисах). Т.е. компания \"Яндекс\" сосредоточила свой поиск людей в основном в крупных регионах, так в России в городах-миллиониках поиск составил 25,1% от общего числа вакансий. Причем распределение количества вакансий по городам-миллиониках (это 16 городов) практически пропорционально численности этих городов.*\n",
        "\n",
        "- *Из представленной выше диаграммы (\"Сколько сфер деятельности указывают компании-работадатели.\") видно, что у большого количество работадателей не указана ни одна сфера деятельность в процентном соотношении 35,8% (в абсолютном соотношении 8419 компании из 23501), указана одна сфера деятельности 27,5% (6452 компании из 23501) далее идет две сферы деятельности 15,5% (3639 из 23501).*\n",
        "\n",
        "- *Только 15,1% (в абсолютном соотношении 3553 компании из 23501) компаний задействованы в сфере деятельности «Разработка программного обеспечения».*"
      ]
    },
    {
      "attachments": {},
      "cell_type": "markdown",
      "id": "b1ef156a-efcb-49ce-bb23-90763e7f35b2",
      "metadata": {
        "id": "b1ef156a-efcb-49ce-bb23-90763e7f35b2",
        "tags": []
      },
      "source": [
        "# Юнит 6. Предметный анализ"
      ]
    },
    {
      "attachments": {},
      "cell_type": "markdown",
      "id": "b9cd50a0-992d-4988-8463-2b2b1c4629b4",
      "metadata": {
        "id": "b9cd50a0-992d-4988-8463-2b2b1c4629b4"
      },
      "source": [
        "1. Сколько вакансий имеет отношение к данным?\n",
        "\n",
        "Считаем, что вакансия имеет отношение к данным, если в её названии содержатся слова 'data' или 'данн'.\n",
        "\n",
        "*Подсказка: Обратите внимание, что названия вакансий могут быть написаны в любом регистре.* \n"
      ]
    },
    {
      "cell_type": "code",
      "execution_count": 77,
      "id": "54ab0e50-c0f1-47cc-a54b-bc5c8bc363f9",
      "metadata": {
        "id": "54ab0e50-c0f1-47cc-a54b-bc5c8bc363f9"
      },
      "outputs": [],
      "source": [
        "# текст запроса\n",
        "\n",
        "query_6_1 = f''' SELECT COUNT(v.id)\n",
        "FROM public.vacancies v\n",
        "WHERE LOWER(v.name) LIKE '%data%' OR LOWER(v.name) LIKE'%данн%' -- условие, что название вакансий должны содержать либо слово 'data', либо слово 'данн' в нижнем регистре''' "
      ]
    },
    {
      "cell_type": "code",
      "execution_count": 78,
      "id": "9F1meAqsuUjd",
      "metadata": {
        "id": "9F1meAqsuUjd"
      },
      "outputs": [
        {
          "name": "stdout",
          "output_type": "stream",
          "text": [
            "Число вакансий, имеющих отношение к данным, составляет 1771\n"
          ]
        }
      ],
      "source": [
        "# результат запроса\n",
        "\n",
        "result = pd.read_sql_query(query_6_1, connection)\n",
        "print('Число вакансий, имеющих отношение к данным, составляет', result.iloc[0, 0])"
      ]
    },
    {
      "attachments": {},
      "cell_type": "markdown",
      "id": "4dea20cb-a36b-474a-a0b9-e08e8e3857a5",
      "metadata": {
        "id": "4dea20cb-a36b-474a-a0b9-e08e8e3857a5"
      },
      "source": [
        "2. Сколько есть подходящих вакансий для начинающего дата-сайентиста? \n",
        "Будем считать вакансиями для дата-сайентистов такие, в названии которых есть хотя бы одно из следующих сочетаний:\n",
        "* 'data scientist'\n",
        "* 'data science'\n",
        "* 'исследователь данных'\n",
        "* 'ML' (здесь не нужно брать вакансии по HTML)\n",
        "* 'machine learning'\n",
        "* 'машинн%обучен%'\n",
        "\n",
        "** В следующих заданиях мы продолжим работать с вакансиями по этому условию.*\n",
        "\n",
        "Считаем вакансиями для специалистов уровня Junior следующие:\n",
        "* в названии есть слово 'junior' *или*\n",
        "* требуемый опыт — Нет опыта *или*\n",
        "* тип трудоустройства — Стажировка.\n",
        " "
      ]
    },
    {
      "cell_type": "code",
      "execution_count": 79,
      "id": "9c61b3c0-bb66-46c9-ae1e-81d3f5752b4a",
      "metadata": {
        "id": "9c61b3c0-bb66-46c9-ae1e-81d3f5752b4a"
      },
      "outputs": [],
      "source": [
        "# текст запроса\n",
        "\n",
        "query_6_2 = f''' SELECT COUNT(v.id)\n",
        "FROM public.vacancies v\n",
        "WHERE (LOWER(v.name) LIKE '%data scientist%' OR LOWER(v.name) LIKE '%data science%' OR LOWER(v.name) LIKE '%исследователь данных%'  -- условие, что название вакансий должны содержать либо слова 'data scientist', либо 'data science', либо 'исследователь данных' в нижнем регистре\n",
        "    OR LOWER(v.name) LIKE '%machine learning%' OR LOWER(v.name) LIKE '%машинн%обучен%' OR (v.name LIKE '%ML%' AND v.name NOT LIKE '%HTML%'))  -- условие, что название вакансий должны содержать либо слова 'machine learning', либо 'машинн%обучен%' в нижнем регистре, либо 'ML'(но не содержаться в сочетании 'HTML')\n",
        "    AND (LOWER(v.name) LIKE '%junior%' OR LOWER(v.experience) LIKE '%нет опыта%' OR LOWER(v.employment) LIKE '%стажировка%') -- так же должен удовлетворять условию что название вакансий должны содержать либо слово 'junior', либо 'нет опыта', либо 'стажировка' в нижнем регистре '''"
      ]
    },
    {
      "cell_type": "code",
      "execution_count": 80,
      "id": "ZNM-LLYuu1dj",
      "metadata": {
        "id": "ZNM-LLYuu1dj"
      },
      "outputs": [
        {
          "name": "stdout",
          "output_type": "stream",
          "text": [
            "Для начинающего специалиста уровня Junior предложена 51 вакансия\n"
          ]
        }
      ],
      "source": [
        "# результат запроса\n",
        "\n",
        "result = pd.read_sql_query(query_6_2, connection)\n",
        "print(f\"Для начинающего специалиста уровня Junior предложена {result.iloc[0, 0]} вакансия\")"
      ]
    },
    {
      "attachments": {},
      "cell_type": "markdown",
      "id": "eedceb80-c5ca-480e-b27a-278dfb8b4438",
      "metadata": {
        "id": "eedceb80-c5ca-480e-b27a-278dfb8b4438"
      },
      "source": [
        "3. Сколько есть вакансий для DS, в которых в качестве ключевого навыка указан SQL или postgres?\n",
        "\n",
        "** Критерии для отнесения вакансии к DS указаны в предыдущем задании.*"
      ]
    },
    {
      "cell_type": "code",
      "execution_count": 81,
      "id": "69621713-0cc5-4f1b-a1d7-bb144fa6148c",
      "metadata": {
        "id": "69621713-0cc5-4f1b-a1d7-bb144fa6148c"
      },
      "outputs": [],
      "source": [
        "# текст запроса\n",
        "\n",
        "query_6_3 = f''' SELECT COUNT(v.name)\n",
        "FROM public.vacancies v\n",
        "WHERE (LOWER(v.name) LIKE '%data scientist%' OR LOWER(v.name) LIKE '%data science%' OR LOWER(v.name) LIKE '%исследователь данных%' \\\n",
        "    OR LOWER(v.name) LIKE '%machine learning%' OR LOWER(v.name) LIKE '%машинн%обучен%' OR (v.name LIKE '%ML%' AND v.name NOT LIKE '%HTML%')) \\\n",
        "    AND (LOWER(v.key_skills) LIKE '%sql%' OR LOWER(v.key_skills) LIKE '%postgres%') -- условия для DS теже, только добавляются условия, что в ключевые навыки должны содержать либо слово 'sql', либо 'postgres' '''\n"
      ]
    },
    {
      "cell_type": "code",
      "execution_count": 82,
      "id": "alA8WEAAvGdf",
      "metadata": {
        "id": "alA8WEAAvGdf"
      },
      "outputs": [
        {
          "name": "stdout",
          "output_type": "stream",
          "text": [
            "Для специалистов Data Science число вакансий, в которых в качестве ключевого навыка указан SQL или postgres, составляет: 201\n"
          ]
        }
      ],
      "source": [
        "# результат запроса\n",
        "\n",
        "result = pd.read_sql_query(query_6_3, connection)\n",
        "print('Для специалистов Data Science число вакансий, в которых в качестве ключевого навыка указан SQL или postgres, составляет:', result.iloc[0, 0])\n"
      ]
    },
    {
      "attachments": {},
      "cell_type": "markdown",
      "id": "1be1e9c6-37cf-4a5f-bfeb-04cab799dc80",
      "metadata": {
        "id": "1be1e9c6-37cf-4a5f-bfeb-04cab799dc80"
      },
      "source": [
        "4. Проверьте, насколько популярен Python в требованиях работодателей к DS.Для этого вычислите количество вакансий, в которых в качестве ключевого навыка указан Python.\n",
        "\n",
        "** Это можно сделать помощью запроса, аналогичного предыдущему.*"
      ]
    },
    {
      "cell_type": "code",
      "execution_count": 83,
      "id": "0036a355-9ccf-4564-8b01-73d8194297e7",
      "metadata": {
        "id": "0036a355-9ccf-4564-8b01-73d8194297e7"
      },
      "outputs": [],
      "source": [
        "# текст запроса\n",
        "\n",
        "query_6_4 = f''' SELECT COUNT(v.name)\n",
        "FROM public.vacancies v\n",
        "WHERE (LOWER(v.name) LIKE '%data scientist%' OR LOWER(v.name) LIKE '%data science%' OR LOWER(v.name) LIKE '%исследователь данных%' \\\n",
        "    OR LOWER(v.name) LIKE '%machine learning%' OR LOWER(v.name) LIKE '%машинн%обучен%' OR (v.name LIKE '%ML%' AND v.name NOT LIKE '%HTML%')) \\\n",
        "    AND (LOWER(v.key_skills) LIKE '%python%') -- условия для DS теже, только добавляются условия, что в ключевые навыки должны содержать слово 'python' '''"
      ]
    },
    {
      "cell_type": "code",
      "execution_count": 84,
      "id": "1i-5WyucvQ6v",
      "metadata": {
        "id": "1i-5WyucvQ6v"
      },
      "outputs": [
        {
          "name": "stdout",
          "output_type": "stream",
          "text": [
            "Для специалистов Data Science число вакансий, в которых в качестве ключевого навыка указан Python, составляет: 351\n"
          ]
        }
      ],
      "source": [
        "# результат запроса\n",
        "\n",
        "result = pd.read_sql_query(query_6_4, connection)\n",
        "print('Для специалистов Data Science число вакансий, в которых в качестве ключевого навыка указан Python, составляет:', result.iloc[0, 0])"
      ]
    },
    {
      "attachments": {},
      "cell_type": "markdown",
      "id": "ec3c8db7-fa21-4a41-a994-1af63742a642",
      "metadata": {
        "id": "ec3c8db7-fa21-4a41-a994-1af63742a642"
      },
      "source": [
        "5. Сколько ключевых навыков в среднем указывают в вакансиях для DS?\n",
        "Ответ округлите до двух знаков после точки-разделителя."
      ]
    },
    {
      "cell_type": "code",
      "execution_count": 85,
      "id": "949132bc-d5b6-4611-8218-0b9a504d74f4",
      "metadata": {
        "id": "949132bc-d5b6-4611-8218-0b9a504d74f4"
      },
      "outputs": [],
      "source": [
        "# текст запроса\n",
        "\n",
        "query_6_5 = f''' SELECT --*, --находим количество навыков в строке, исходя из того, что видим в ключевых навыках постоянно повторяющийся символ \\t (TAB-табуляция (chr(9) - если через функцию совместимости)),\n",
        "ROUND(AVG(LENGTH(v.key_skills) - LENGTH(REPLACE(v.key_skills,'\\t','')) + 1), 2) --т.е. разница количества символов в строке с \\t и без него, но не забываем прибавить 1, т.к. у первого навыка нет \\t\n",
        "                                                                                -- далее берем среднее для всех строк и округляем до 2-х знаков\n",
        "--LENGTH(v.key_skills) length,\n",
        "--LENGTH(replace(v.key_skills,'\\t','')) length_1\n",
        "\n",
        "FROM public.vacancies v\n",
        "WHERE (LOWER(v.name) LIKE '%data scientist%' OR LOWER(v.name) LIKE '%data science%' OR LOWER(v.name) LIKE '%исследователь данных%' \\\n",
        "    OR LOWER(v.name) LIKE '%machine learning%' OR LOWER(v.name) LIKE '%машинн%обучен%' OR (v.name LIKE '%ML%' AND v.name NOT LIKE '%HTML%')) -- условия для DS теже '''"
      ]
    },
    {
      "cell_type": "code",
      "execution_count": 86,
      "id": "a3V24Tvmviqk",
      "metadata": {
        "id": "a3V24Tvmviqk"
      },
      "outputs": [
        {
          "name": "stdout",
          "output_type": "stream",
          "text": [
            "В среднем в вакансиях для специалистов Data Science указывают 6.41 ключевых навыков\n"
          ]
        }
      ],
      "source": [
        "# результат запроса\n",
        "\n",
        "result = pd.read_sql_query(query_6_5, connection)\n",
        "print(f\"В среднем в вакансиях для специалистов Data Science указывают {result.iloc[0, 0]} ключевых навыков\")"
      ]
    },
    {
      "attachments": {},
      "cell_type": "markdown",
      "id": "1041c17a-ca8f-4543-a0ca-32778914fb00",
      "metadata": {
        "id": "1041c17a-ca8f-4543-a0ca-32778914fb00"
      },
      "source": [
        "6. Напишите запрос, позволяющий вычислить, какую зарплату для DS в **среднем** указывают для каждого типа требуемого опыта (уникальное значение из поля *experience*). \n",
        "\n",
        "При решении задачи примите во внимание следующее:\n",
        "1. Рассматриваем только вакансии, у которых заполнено хотя бы одно из двух полей с зарплатой.\n",
        "2. Если заполнены оба поля с зарплатой, то считаем зарплату по каждой вакансии как сумму двух полей, делённую на 2. Если заполнено только одно из полей, то его и считаем зарплатой по вакансии.\n",
        "3. Если в расчётах участвует null, в результате он тоже даст null (посмотрите, что возвращает запрос select 1 + null). Чтобы избежать этой ситуацию, мы воспользуемся функцией [coalesce](https://postgrespro.ru/docs/postgresql/9.5/functions-conditional#functions-coalesce-nvl-ifnull), которая заменит null на значение, которое мы передадим. Например, посмотрите, что возвращает запрос `select 1 + coalesce(null, 0)`\n",
        "\n",
        "Выясните, на какую зарплату в среднем может рассчитывать дата-сайентист с опытом работы от 3 до 6 лет. Результат округлите до целого числа. "
      ]
    },
    {
      "cell_type": "code",
      "execution_count": 87,
      "id": "6a743d39-5204-48d3-8271-b9f88e68d40e",
      "metadata": {
        "id": "6a743d39-5204-48d3-8271-b9f88e68d40e"
      },
      "outputs": [],
      "source": [
        "# текст запроса\n",
        "\n",
        "query_6_6 = f''' SELECT v.experience,\n",
        "ROUND(AVG(CASE \n",
        "    WHEN v.salary_from IS NULL THEN v.salary_to\n",
        "    WHEN v.salary_to IS NULL THEN v.salary_from\n",
        "    ELSE (COALESCE(v.salary_from, 0) + COALESCE(v.salary_to, 0))/2 END), 0) AS salary\n",
        "FROM public.vacancies v\n",
        "WHERE (LOWER(v.name) LIKE '%data scientist%' OR LOWER(v.name) LIKE '%data science%' OR LOWER(v.name) LIKE '%исследователь данных%' \\\n",
        "    OR LOWER(v.name) LIKE '%machine learning%' OR LOWER(v.name) LIKE '%машинн%обучен%' OR (v.name LIKE '%ML%' AND v.name NOT LIKE '%HTML%')) -- условия для DS теже \n",
        "    AND (v.salary_from IS NOT NULL OR v.salary_to IS NOT NULL ) -- условия, что нижняя граница зарплатной вилки или верхняя граница зарплатной вилки не должна быть пустой\n",
        "GROUP BY v.experience '''\n"
      ]
    },
    {
      "cell_type": "code",
      "execution_count": 88,
      "id": "aRIJ0mZEwU1_",
      "metadata": {
        "id": "aRIJ0mZEwU1_"
      },
      "outputs": [
        {
          "name": "stdout",
          "output_type": "stream",
          "text": [
            "Средняя зарплата у специалистов Data Science с опытом работы от 3 до 6 лет составляет: 243115.0 руб.\n"
          ]
        },
        {
          "data": {
            "text/html": [
              "<div>\n",
              "<style scoped>\n",
              "    .dataframe tbody tr th:only-of-type {\n",
              "        vertical-align: middle;\n",
              "    }\n",
              "\n",
              "    .dataframe tbody tr th {\n",
              "        vertical-align: top;\n",
              "    }\n",
              "\n",
              "    .dataframe thead th {\n",
              "        text-align: right;\n",
              "    }\n",
              "</style>\n",
              "<table border=\"1\" class=\"dataframe\">\n",
              "  <thead>\n",
              "    <tr style=\"text-align: right;\">\n",
              "      <th></th>\n",
              "      <th>experience</th>\n",
              "      <th>salary</th>\n",
              "    </tr>\n",
              "  </thead>\n",
              "  <tbody>\n",
              "    <tr>\n",
              "      <th>0</th>\n",
              "      <td>Нет опыта</td>\n",
              "      <td>74643.0</td>\n",
              "    </tr>\n",
              "    <tr>\n",
              "      <th>1</th>\n",
              "      <td>От 1 года до 3 лет</td>\n",
              "      <td>139675.0</td>\n",
              "    </tr>\n",
              "    <tr>\n",
              "      <th>2</th>\n",
              "      <td>От 3 до 6 лет</td>\n",
              "      <td>243115.0</td>\n",
              "    </tr>\n",
              "  </tbody>\n",
              "</table>\n",
              "</div>"
            ],
            "text/plain": [
              "           experience    salary\n",
              "0           Нет опыта   74643.0\n",
              "1  От 1 года до 3 лет  139675.0\n",
              "2       От 3 до 6 лет  243115.0"
            ]
          },
          "execution_count": 88,
          "metadata": {},
          "output_type": "execute_result"
        }
      ],
      "source": [
        "# результат запроса\n",
        "\n",
        "result = pd.read_sql_query(query_6_6, connection)\n",
        "print(f\"Средняя зарплата у специалистов Data Science с опытом работы от 3 до 6 лет составляет: {result.iloc[2, 1]} руб.\")\n",
        "result"
      ]
    },
    {
      "attachments": {},
      "cell_type": "markdown",
      "id": "6a7892b4-4113-4746-adce-18aa2844f18e",
      "metadata": {
        "id": "6a7892b4-4113-4746-adce-18aa2844f18e"
      },
      "source": [
        "***"
      ]
    },
    {
      "cell_type": "markdown",
      "id": "d1fa107a",
      "metadata": {},
      "source": [
        "***Комментарии и выводы:***\n",
        "\n",
        "*В предметном анализе можно отметить следующие моменты:*\n",
        "\n",
        "- *Из всех вакансий, которые представлены в нашей базе данных, всего 1771 из 49197 вакансий имеют отношение к данным, в процентном соотношении это всего 3,6%. А для новичков без опыта работы и того меньше 0,1% от общего числа (в абсолютном соотношении 51 из 49197 вакансий) или 2,9% от числа вакансий связанных с данными (в абсолютном соотношении 51 из 1771 вакансии). Довольно узкий коридор возможностей.*\n",
        "\n",
        "- *В вакансиях для специалистов Data Science указывают в основном чуть более шести ключевых навыков.*\n",
        "\n",
        "- *Из этих навыков знание языка программирования Python является довольно нужным и распространенным. 19,8% из числа вакансий для специалистов Data Science (или 0,7% от общего числа вакансий). А так же довольно высоко ценится такой навык, как умениия работать в postgres и знание SQL. 11,3% из числа вакансий для специалистов Data Science (или 0,4% от общего числа вакансий).*\n",
        "\n",
        "- *Зарплата у специалистов Data Science находятся на хорошем уровне и зависит от опыта работы, как в прочем и у многих, но прогресс возрастания зарплаты от первого этапа к следующему этапу довольно высокий, так разница между средними зарплатами у специалистов без опыта работы (74643 руб.) и с опытом работы от 3 до 6 лет (139675 руб.) составляет - 65032 руб. (это на 87% больше чем на первой ступени зарплат), но и следующая разница между средними зарплатами у специалистов с опытом работы от 3 до 6 лет и от 3 до 6 лет (243115 руб.) впечатляет и составляет 103440 руб. (что на 74% больше чем на предыдущей ступени зарплат).*"
      ]
    },
    {
      "attachments": {},
      "cell_type": "markdown",
      "id": "c0ED6fh7wiBT",
      "metadata": {
        "id": "c0ED6fh7wiBT"
      },
      "source": [
        "# Общий вывод по проекту"
      ]
    },
    {
      "cell_type": "code",
      "execution_count": 5,
      "id": "h9B3BL-wwj18",
      "metadata": {
        "id": "h9B3BL-wwj18"
      },
      "outputs": [],
      "source": [
        "\n",
        "# В заключении хочется узнать какие сферы деятельности наиболее нуждаются в работниках (в нашей базе данных) и на сколько опытные сотрудники нужны в данных сферах деятельности\n",
        "\n",
        "# текст запроса\n",
        "query_conclusion = f''' WITH Popular_Industries AS (SELECT i.name name_popular_industries,\n",
        "--v.experience,\n",
        "COUNT(v.id) count_vac_of_pup_ind\n",
        "FROM public.industries i\n",
        "JOIN public.employers_industries e_i ON i.id = e_i.industry_id\n",
        "JOIN public.employers e ON e_i.employer_id = e.id\n",
        "JOIN public.vacancies v ON e.id = v.employer_id\n",
        "GROUP BY i.name\n",
        "ORDER BY COUNT(v.id) DESC\n",
        "LIMIT 8)\n",
        "SELECT p_i.name_popular_industries,\n",
        "p_i.count_vac_of_pup_ind,\n",
        "v.experience,\n",
        "COUNT(v.id) count_vac\n",
        "FROM Popular_Industries p_i \n",
        "JOIN public.industries i ON p_i.name_popular_industries = i.name\n",
        "JOIN public.employers_industries e_i ON i.id = e_i.industry_id\n",
        "JOIN public.employers e ON e_i.employer_id = e.id\n",
        "JOIN public.vacancies v ON e.id = v.employer_id\n",
        "GROUP BY p_i.name_popular_industries, p_i.count_vac_of_pup_ind, v.experience\n",
        "ORDER BY p_i.count_vac_of_pup_ind DESC, count_vac DESC '''\n"
      ]
    },
    {
      "cell_type": "code",
      "execution_count": 6,
      "id": "87cde8c3",
      "metadata": {},
      "outputs": [
        {
          "data": {
            "application/vnd.plotly.v1+json": {
              "config": {
                "plotlyServerURL": "https://plot.ly"
              },
              "data": [
                {
                  "alignmentgroup": "True",
                  "hovertemplate": "name_popular_industries=Разработка программного обеспечения<br>Опыт работы, годы=%{x}<br>Количество вакансий=%{y}<extra></extra>",
                  "legendgroup": "Разработка программного обеспечения",
                  "marker": {
                    "color": "#636efa",
                    "pattern": {
                      "shape": ""
                    }
                  },
                  "name": "Разработка программного обеспечения",
                  "offsetgroup": "Разработка программного обеспечения",
                  "orientation": "v",
                  "showlegend": true,
                  "textposition": "auto",
                  "type": "bar",
                  "x": [
                    "От 1 года до 3 лет",
                    "От 3 до 6 лет",
                    "Нет опыта",
                    "Более 6 лет"
                  ],
                  "xaxis": "x",
                  "y": [
                    6421,
                    4526,
                    1225,
                    327
                  ],
                  "yaxis": "y"
                },
                {
                  "alignmentgroup": "True",
                  "hovertemplate": "name_popular_industries=Системная интеграция,  автоматизации технологических и бизнес-процессов предприятия, ИТ-консалтинг<br>Опыт работы, годы=%{x}<br>Количество вакансий=%{y}<extra></extra>",
                  "legendgroup": "Системная интеграция,  автоматизации технологических и бизнес-процессов предприятия, ИТ-консалтинг",
                  "marker": {
                    "color": "#EF553B",
                    "pattern": {
                      "shape": ""
                    }
                  },
                  "name": "Системная интеграция,  автоматизации технологических и бизнес-процессов предприятия, ИТ-консалтинг",
                  "offsetgroup": "Системная интеграция,  автоматизации технологических и бизнес-процессов предприятия, ИТ-консалтинг",
                  "orientation": "v",
                  "showlegend": true,
                  "textposition": "auto",
                  "type": "bar",
                  "x": [
                    "От 1 года до 3 лет",
                    "От 3 до 6 лет",
                    "Нет опыта",
                    "Более 6 лет"
                  ],
                  "xaxis": "x",
                  "y": [
                    5829,
                    3702,
                    1217,
                    286
                  ],
                  "yaxis": "y"
                },
                {
                  "alignmentgroup": "True",
                  "hovertemplate": "name_popular_industries=Интернет-компания (поисковики, платежные системы, соц.сети, информационно-познавательные и развлекательные ресурсы, продвижение сайтов и прочее)<br>Опыт работы, годы=%{x}<br>Количество вакансий=%{y}<extra></extra>",
                  "legendgroup": "Интернет-компания (поисковики, платежные системы, соц.сети, информационно-познавательные и развлекательные ресурсы, продвижение сайтов и прочее)",
                  "marker": {
                    "color": "#00cc96",
                    "pattern": {
                      "shape": ""
                    }
                  },
                  "name": "Интернет-компания (поисковики, платежные системы, соц.сети, информационно-познавательные и развлекательные ресурсы, продвижение сайтов и прочее)",
                  "offsetgroup": "Интернет-компания (поисковики, платежные системы, соц.сети, информационно-познавательные и развлекательные ресурсы, продвижение сайтов и прочее)",
                  "orientation": "v",
                  "showlegend": true,
                  "textposition": "auto",
                  "type": "bar",
                  "x": [
                    "От 1 года до 3 лет",
                    "Нет опыта",
                    "От 3 до 6 лет",
                    "Более 6 лет"
                  ],
                  "xaxis": "x",
                  "y": [
                    2870,
                    1930,
                    1514,
                    99
                  ],
                  "yaxis": "y"
                },
                {
                  "alignmentgroup": "True",
                  "hovertemplate": "name_popular_industries=Банк<br>Опыт работы, годы=%{x}<br>Количество вакансий=%{y}<extra></extra>",
                  "legendgroup": "Банк",
                  "marker": {
                    "color": "#ab63fa",
                    "pattern": {
                      "shape": ""
                    }
                  },
                  "name": "Банк",
                  "offsetgroup": "Банк",
                  "orientation": "v",
                  "showlegend": true,
                  "textposition": "auto",
                  "type": "bar",
                  "x": [
                    "От 1 года до 3 лет",
                    "От 3 до 6 лет",
                    "Нет опыта",
                    "Более 6 лет"
                  ],
                  "xaxis": "x",
                  "y": [
                    1677,
                    834,
                    191,
                    40
                  ],
                  "yaxis": "y"
                },
                {
                  "alignmentgroup": "True",
                  "hovertemplate": "name_popular_industries=Мобильная связь<br>Опыт работы, годы=%{x}<br>Количество вакансий=%{y}<extra></extra>",
                  "legendgroup": "Мобильная связь",
                  "marker": {
                    "color": "#FFA15A",
                    "pattern": {
                      "shape": ""
                    }
                  },
                  "name": "Мобильная связь",
                  "offsetgroup": "Мобильная связь",
                  "orientation": "v",
                  "showlegend": true,
                  "textposition": "auto",
                  "type": "bar",
                  "x": [
                    "От 1 года до 3 лет",
                    "Нет опыта",
                    "От 3 до 6 лет",
                    "Более 6 лет"
                  ],
                  "xaxis": "x",
                  "y": [
                    872,
                    369,
                    323,
                    21
                  ],
                  "yaxis": "y"
                },
                {
                  "alignmentgroup": "True",
                  "hovertemplate": "name_popular_industries=Кадровые агентства<br>Опыт работы, годы=%{x}<br>Количество вакансий=%{y}<extra></extra>",
                  "legendgroup": "Кадровые агентства",
                  "marker": {
                    "color": "#19d3f3",
                    "pattern": {
                      "shape": ""
                    }
                  },
                  "name": "Кадровые агентства",
                  "offsetgroup": "Кадровые агентства",
                  "orientation": "v",
                  "showlegend": true,
                  "textposition": "auto",
                  "type": "bar",
                  "x": [
                    "От 1 года до 3 лет",
                    "От 3 до 6 лет",
                    "Нет опыта",
                    "Более 6 лет"
                  ],
                  "xaxis": "x",
                  "y": [
                    552,
                    447,
                    89,
                    55
                  ],
                  "yaxis": "y"
                },
                {
                  "alignmentgroup": "True",
                  "hovertemplate": "name_popular_industries=Консалтинговые услуги<br>Опыт работы, годы=%{x}<br>Количество вакансий=%{y}<extra></extra>",
                  "legendgroup": "Консалтинговые услуги",
                  "marker": {
                    "color": "#FF6692",
                    "pattern": {
                      "shape": ""
                    }
                  },
                  "name": "Консалтинговые услуги",
                  "offsetgroup": "Консалтинговые услуги",
                  "orientation": "v",
                  "showlegend": true,
                  "textposition": "auto",
                  "type": "bar",
                  "x": [
                    "От 1 года до 3 лет",
                    "От 3 до 6 лет",
                    "Нет опыта",
                    "Более 6 лет"
                  ],
                  "xaxis": "x",
                  "y": [
                    571,
                    358,
                    186,
                    22
                  ],
                  "yaxis": "y"
                },
                {
                  "alignmentgroup": "True",
                  "hovertemplate": "name_popular_industries=Интернет-провайдер<br>Опыт работы, годы=%{x}<br>Количество вакансий=%{y}<extra></extra>",
                  "legendgroup": "Интернет-провайдер",
                  "marker": {
                    "color": "#B6E880",
                    "pattern": {
                      "shape": ""
                    }
                  },
                  "name": "Интернет-провайдер",
                  "offsetgroup": "Интернет-провайдер",
                  "orientation": "v",
                  "showlegend": true,
                  "textposition": "auto",
                  "type": "bar",
                  "x": [
                    "От 1 года до 3 лет",
                    "Нет опыта",
                    "От 3 до 6 лет",
                    "Более 6 лет"
                  ],
                  "xaxis": "x",
                  "y": [
                    582,
                    320,
                    184,
                    9
                  ],
                  "yaxis": "y"
                }
              ],
              "layout": {
                "barmode": "group",
                "height": 600,
                "legend": {
                  "borderwidth": 0.5,
                  "font": {
                    "size": 12
                  },
                  "orientation": "h",
                  "title": {
                    "text": "Сферы деятельности:"
                  },
                  "tracegroupgap": 0,
                  "x": 0.5,
                  "xanchor": "center",
                  "y": -0.4,
                  "yanchor": "bottom"
                },
                "template": {
                  "data": {
                    "bar": [
                      {
                        "error_x": {
                          "color": "#2a3f5f"
                        },
                        "error_y": {
                          "color": "#2a3f5f"
                        },
                        "marker": {
                          "line": {
                            "color": "#E5ECF6",
                            "width": 0.5
                          },
                          "pattern": {
                            "fillmode": "overlay",
                            "size": 10,
                            "solidity": 0.2
                          }
                        },
                        "type": "bar"
                      }
                    ],
                    "barpolar": [
                      {
                        "marker": {
                          "line": {
                            "color": "#E5ECF6",
                            "width": 0.5
                          },
                          "pattern": {
                            "fillmode": "overlay",
                            "size": 10,
                            "solidity": 0.2
                          }
                        },
                        "type": "barpolar"
                      }
                    ],
                    "carpet": [
                      {
                        "aaxis": {
                          "endlinecolor": "#2a3f5f",
                          "gridcolor": "white",
                          "linecolor": "white",
                          "minorgridcolor": "white",
                          "startlinecolor": "#2a3f5f"
                        },
                        "baxis": {
                          "endlinecolor": "#2a3f5f",
                          "gridcolor": "white",
                          "linecolor": "white",
                          "minorgridcolor": "white",
                          "startlinecolor": "#2a3f5f"
                        },
                        "type": "carpet"
                      }
                    ],
                    "choropleth": [
                      {
                        "colorbar": {
                          "outlinewidth": 0,
                          "ticks": ""
                        },
                        "type": "choropleth"
                      }
                    ],
                    "contour": [
                      {
                        "colorbar": {
                          "outlinewidth": 0,
                          "ticks": ""
                        },
                        "colorscale": [
                          [
                            0,
                            "#0d0887"
                          ],
                          [
                            0.1111111111111111,
                            "#46039f"
                          ],
                          [
                            0.2222222222222222,
                            "#7201a8"
                          ],
                          [
                            0.3333333333333333,
                            "#9c179e"
                          ],
                          [
                            0.4444444444444444,
                            "#bd3786"
                          ],
                          [
                            0.5555555555555556,
                            "#d8576b"
                          ],
                          [
                            0.6666666666666666,
                            "#ed7953"
                          ],
                          [
                            0.7777777777777778,
                            "#fb9f3a"
                          ],
                          [
                            0.8888888888888888,
                            "#fdca26"
                          ],
                          [
                            1,
                            "#f0f921"
                          ]
                        ],
                        "type": "contour"
                      }
                    ],
                    "contourcarpet": [
                      {
                        "colorbar": {
                          "outlinewidth": 0,
                          "ticks": ""
                        },
                        "type": "contourcarpet"
                      }
                    ],
                    "heatmap": [
                      {
                        "colorbar": {
                          "outlinewidth": 0,
                          "ticks": ""
                        },
                        "colorscale": [
                          [
                            0,
                            "#0d0887"
                          ],
                          [
                            0.1111111111111111,
                            "#46039f"
                          ],
                          [
                            0.2222222222222222,
                            "#7201a8"
                          ],
                          [
                            0.3333333333333333,
                            "#9c179e"
                          ],
                          [
                            0.4444444444444444,
                            "#bd3786"
                          ],
                          [
                            0.5555555555555556,
                            "#d8576b"
                          ],
                          [
                            0.6666666666666666,
                            "#ed7953"
                          ],
                          [
                            0.7777777777777778,
                            "#fb9f3a"
                          ],
                          [
                            0.8888888888888888,
                            "#fdca26"
                          ],
                          [
                            1,
                            "#f0f921"
                          ]
                        ],
                        "type": "heatmap"
                      }
                    ],
                    "heatmapgl": [
                      {
                        "colorbar": {
                          "outlinewidth": 0,
                          "ticks": ""
                        },
                        "colorscale": [
                          [
                            0,
                            "#0d0887"
                          ],
                          [
                            0.1111111111111111,
                            "#46039f"
                          ],
                          [
                            0.2222222222222222,
                            "#7201a8"
                          ],
                          [
                            0.3333333333333333,
                            "#9c179e"
                          ],
                          [
                            0.4444444444444444,
                            "#bd3786"
                          ],
                          [
                            0.5555555555555556,
                            "#d8576b"
                          ],
                          [
                            0.6666666666666666,
                            "#ed7953"
                          ],
                          [
                            0.7777777777777778,
                            "#fb9f3a"
                          ],
                          [
                            0.8888888888888888,
                            "#fdca26"
                          ],
                          [
                            1,
                            "#f0f921"
                          ]
                        ],
                        "type": "heatmapgl"
                      }
                    ],
                    "histogram": [
                      {
                        "marker": {
                          "pattern": {
                            "fillmode": "overlay",
                            "size": 10,
                            "solidity": 0.2
                          }
                        },
                        "type": "histogram"
                      }
                    ],
                    "histogram2d": [
                      {
                        "colorbar": {
                          "outlinewidth": 0,
                          "ticks": ""
                        },
                        "colorscale": [
                          [
                            0,
                            "#0d0887"
                          ],
                          [
                            0.1111111111111111,
                            "#46039f"
                          ],
                          [
                            0.2222222222222222,
                            "#7201a8"
                          ],
                          [
                            0.3333333333333333,
                            "#9c179e"
                          ],
                          [
                            0.4444444444444444,
                            "#bd3786"
                          ],
                          [
                            0.5555555555555556,
                            "#d8576b"
                          ],
                          [
                            0.6666666666666666,
                            "#ed7953"
                          ],
                          [
                            0.7777777777777778,
                            "#fb9f3a"
                          ],
                          [
                            0.8888888888888888,
                            "#fdca26"
                          ],
                          [
                            1,
                            "#f0f921"
                          ]
                        ],
                        "type": "histogram2d"
                      }
                    ],
                    "histogram2dcontour": [
                      {
                        "colorbar": {
                          "outlinewidth": 0,
                          "ticks": ""
                        },
                        "colorscale": [
                          [
                            0,
                            "#0d0887"
                          ],
                          [
                            0.1111111111111111,
                            "#46039f"
                          ],
                          [
                            0.2222222222222222,
                            "#7201a8"
                          ],
                          [
                            0.3333333333333333,
                            "#9c179e"
                          ],
                          [
                            0.4444444444444444,
                            "#bd3786"
                          ],
                          [
                            0.5555555555555556,
                            "#d8576b"
                          ],
                          [
                            0.6666666666666666,
                            "#ed7953"
                          ],
                          [
                            0.7777777777777778,
                            "#fb9f3a"
                          ],
                          [
                            0.8888888888888888,
                            "#fdca26"
                          ],
                          [
                            1,
                            "#f0f921"
                          ]
                        ],
                        "type": "histogram2dcontour"
                      }
                    ],
                    "mesh3d": [
                      {
                        "colorbar": {
                          "outlinewidth": 0,
                          "ticks": ""
                        },
                        "type": "mesh3d"
                      }
                    ],
                    "parcoords": [
                      {
                        "line": {
                          "colorbar": {
                            "outlinewidth": 0,
                            "ticks": ""
                          }
                        },
                        "type": "parcoords"
                      }
                    ],
                    "pie": [
                      {
                        "automargin": true,
                        "type": "pie"
                      }
                    ],
                    "scatter": [
                      {
                        "fillpattern": {
                          "fillmode": "overlay",
                          "size": 10,
                          "solidity": 0.2
                        },
                        "type": "scatter"
                      }
                    ],
                    "scatter3d": [
                      {
                        "line": {
                          "colorbar": {
                            "outlinewidth": 0,
                            "ticks": ""
                          }
                        },
                        "marker": {
                          "colorbar": {
                            "outlinewidth": 0,
                            "ticks": ""
                          }
                        },
                        "type": "scatter3d"
                      }
                    ],
                    "scattercarpet": [
                      {
                        "marker": {
                          "colorbar": {
                            "outlinewidth": 0,
                            "ticks": ""
                          }
                        },
                        "type": "scattercarpet"
                      }
                    ],
                    "scattergeo": [
                      {
                        "marker": {
                          "colorbar": {
                            "outlinewidth": 0,
                            "ticks": ""
                          }
                        },
                        "type": "scattergeo"
                      }
                    ],
                    "scattergl": [
                      {
                        "marker": {
                          "colorbar": {
                            "outlinewidth": 0,
                            "ticks": ""
                          }
                        },
                        "type": "scattergl"
                      }
                    ],
                    "scattermapbox": [
                      {
                        "marker": {
                          "colorbar": {
                            "outlinewidth": 0,
                            "ticks": ""
                          }
                        },
                        "type": "scattermapbox"
                      }
                    ],
                    "scatterpolar": [
                      {
                        "marker": {
                          "colorbar": {
                            "outlinewidth": 0,
                            "ticks": ""
                          }
                        },
                        "type": "scatterpolar"
                      }
                    ],
                    "scatterpolargl": [
                      {
                        "marker": {
                          "colorbar": {
                            "outlinewidth": 0,
                            "ticks": ""
                          }
                        },
                        "type": "scatterpolargl"
                      }
                    ],
                    "scatterternary": [
                      {
                        "marker": {
                          "colorbar": {
                            "outlinewidth": 0,
                            "ticks": ""
                          }
                        },
                        "type": "scatterternary"
                      }
                    ],
                    "surface": [
                      {
                        "colorbar": {
                          "outlinewidth": 0,
                          "ticks": ""
                        },
                        "colorscale": [
                          [
                            0,
                            "#0d0887"
                          ],
                          [
                            0.1111111111111111,
                            "#46039f"
                          ],
                          [
                            0.2222222222222222,
                            "#7201a8"
                          ],
                          [
                            0.3333333333333333,
                            "#9c179e"
                          ],
                          [
                            0.4444444444444444,
                            "#bd3786"
                          ],
                          [
                            0.5555555555555556,
                            "#d8576b"
                          ],
                          [
                            0.6666666666666666,
                            "#ed7953"
                          ],
                          [
                            0.7777777777777778,
                            "#fb9f3a"
                          ],
                          [
                            0.8888888888888888,
                            "#fdca26"
                          ],
                          [
                            1,
                            "#f0f921"
                          ]
                        ],
                        "type": "surface"
                      }
                    ],
                    "table": [
                      {
                        "cells": {
                          "fill": {
                            "color": "#EBF0F8"
                          },
                          "line": {
                            "color": "white"
                          }
                        },
                        "header": {
                          "fill": {
                            "color": "#C8D4E3"
                          },
                          "line": {
                            "color": "white"
                          }
                        },
                        "type": "table"
                      }
                    ]
                  },
                  "layout": {
                    "annotationdefaults": {
                      "arrowcolor": "#2a3f5f",
                      "arrowhead": 0,
                      "arrowwidth": 1
                    },
                    "autotypenumbers": "strict",
                    "coloraxis": {
                      "colorbar": {
                        "outlinewidth": 0,
                        "ticks": ""
                      }
                    },
                    "colorscale": {
                      "diverging": [
                        [
                          0,
                          "#8e0152"
                        ],
                        [
                          0.1,
                          "#c51b7d"
                        ],
                        [
                          0.2,
                          "#de77ae"
                        ],
                        [
                          0.3,
                          "#f1b6da"
                        ],
                        [
                          0.4,
                          "#fde0ef"
                        ],
                        [
                          0.5,
                          "#f7f7f7"
                        ],
                        [
                          0.6,
                          "#e6f5d0"
                        ],
                        [
                          0.7,
                          "#b8e186"
                        ],
                        [
                          0.8,
                          "#7fbc41"
                        ],
                        [
                          0.9,
                          "#4d9221"
                        ],
                        [
                          1,
                          "#276419"
                        ]
                      ],
                      "sequential": [
                        [
                          0,
                          "#0d0887"
                        ],
                        [
                          0.1111111111111111,
                          "#46039f"
                        ],
                        [
                          0.2222222222222222,
                          "#7201a8"
                        ],
                        [
                          0.3333333333333333,
                          "#9c179e"
                        ],
                        [
                          0.4444444444444444,
                          "#bd3786"
                        ],
                        [
                          0.5555555555555556,
                          "#d8576b"
                        ],
                        [
                          0.6666666666666666,
                          "#ed7953"
                        ],
                        [
                          0.7777777777777778,
                          "#fb9f3a"
                        ],
                        [
                          0.8888888888888888,
                          "#fdca26"
                        ],
                        [
                          1,
                          "#f0f921"
                        ]
                      ],
                      "sequentialminus": [
                        [
                          0,
                          "#0d0887"
                        ],
                        [
                          0.1111111111111111,
                          "#46039f"
                        ],
                        [
                          0.2222222222222222,
                          "#7201a8"
                        ],
                        [
                          0.3333333333333333,
                          "#9c179e"
                        ],
                        [
                          0.4444444444444444,
                          "#bd3786"
                        ],
                        [
                          0.5555555555555556,
                          "#d8576b"
                        ],
                        [
                          0.6666666666666666,
                          "#ed7953"
                        ],
                        [
                          0.7777777777777778,
                          "#fb9f3a"
                        ],
                        [
                          0.8888888888888888,
                          "#fdca26"
                        ],
                        [
                          1,
                          "#f0f921"
                        ]
                      ]
                    },
                    "colorway": [
                      "#636efa",
                      "#EF553B",
                      "#00cc96",
                      "#ab63fa",
                      "#FFA15A",
                      "#19d3f3",
                      "#FF6692",
                      "#B6E880",
                      "#FF97FF",
                      "#FECB52"
                    ],
                    "font": {
                      "color": "#2a3f5f"
                    },
                    "geo": {
                      "bgcolor": "white",
                      "lakecolor": "white",
                      "landcolor": "#E5ECF6",
                      "showlakes": true,
                      "showland": true,
                      "subunitcolor": "white"
                    },
                    "hoverlabel": {
                      "align": "left"
                    },
                    "hovermode": "closest",
                    "mapbox": {
                      "style": "light"
                    },
                    "paper_bgcolor": "white",
                    "plot_bgcolor": "#E5ECF6",
                    "polar": {
                      "angularaxis": {
                        "gridcolor": "white",
                        "linecolor": "white",
                        "ticks": ""
                      },
                      "bgcolor": "#E5ECF6",
                      "radialaxis": {
                        "gridcolor": "white",
                        "linecolor": "white",
                        "ticks": ""
                      }
                    },
                    "scene": {
                      "xaxis": {
                        "backgroundcolor": "#E5ECF6",
                        "gridcolor": "white",
                        "gridwidth": 2,
                        "linecolor": "white",
                        "showbackground": true,
                        "ticks": "",
                        "zerolinecolor": "white"
                      },
                      "yaxis": {
                        "backgroundcolor": "#E5ECF6",
                        "gridcolor": "white",
                        "gridwidth": 2,
                        "linecolor": "white",
                        "showbackground": true,
                        "ticks": "",
                        "zerolinecolor": "white"
                      },
                      "zaxis": {
                        "backgroundcolor": "#E5ECF6",
                        "gridcolor": "white",
                        "gridwidth": 2,
                        "linecolor": "white",
                        "showbackground": true,
                        "ticks": "",
                        "zerolinecolor": "white"
                      }
                    },
                    "shapedefaults": {
                      "line": {
                        "color": "#2a3f5f"
                      }
                    },
                    "ternary": {
                      "aaxis": {
                        "gridcolor": "white",
                        "linecolor": "white",
                        "ticks": ""
                      },
                      "baxis": {
                        "gridcolor": "white",
                        "linecolor": "white",
                        "ticks": ""
                      },
                      "bgcolor": "#E5ECF6",
                      "caxis": {
                        "gridcolor": "white",
                        "linecolor": "white",
                        "ticks": ""
                      }
                    },
                    "title": {
                      "x": 0.05
                    },
                    "xaxis": {
                      "automargin": true,
                      "gridcolor": "white",
                      "linecolor": "white",
                      "ticks": "",
                      "title": {
                        "standoff": 15
                      },
                      "zerolinecolor": "white",
                      "zerolinewidth": 2
                    },
                    "yaxis": {
                      "automargin": true,
                      "gridcolor": "white",
                      "linecolor": "white",
                      "ticks": "",
                      "title": {
                        "standoff": 15
                      },
                      "zerolinecolor": "white",
                      "zerolinewidth": 2
                    }
                  }
                },
                "title": {
                  "text": "Рейтинг потребности в сотрудниках с разным опытом работы в сферах деятельности, в которых задействованы компании-работодатели."
                },
                "width": 1400,
                "xaxis": {
                  "anchor": "y",
                  "domain": [
                    0,
                    1
                  ],
                  "title": {
                    "text": "Опыт работы, годы"
                  }
                },
                "yaxis": {
                  "anchor": "x",
                  "domain": [
                    0,
                    1
                  ],
                  "title": {
                    "text": "Количество вакансий"
                  }
                }
              }
            }
          },
          "metadata": {},
          "output_type": "display_data"
        }
      ],
      "source": [
        "# результат запроса\n",
        "\n",
        "result_conclusion = pd.read_sql_query(query_conclusion, connection)\n",
        "#display(result_conclusion)\n",
        "\n",
        "import plotly.express as px\n",
        "# Построим диаграмму на основании полученных данных из запроса \n",
        "fig = px.bar(data_frame=result_conclusion, x='experience', y='count_vac', color='name_popular_industries', barmode='group', \n",
        "             #text='name_popular_industries', \n",
        "             title=\"Рейтинг потребности в сотрудниках с разным опытом работы в сферах деятельности, в которых задействованы компании-работодатели.\",\n",
        "             labels={'experience':'Опыт работы, годы', 'count_vac':'Количество вакансий'}, height =600, width = 1400)\n",
        "#fig.update_layout(uniformtext_minsize=14, uniformtext_mode='hide', title_xanchor='center', title_x=0.5)  # настраиваем подпись на столбцах диаграммы и заголовок диаграммы\n",
        "fig.update_layout( legend=dict( font = dict(size= 12), borderwidth=0.5, orientation= 'h', x= 0.5, y=- 0.4,  \n",
        "                               xanchor= 'center', yanchor= 'bottom', title= 'Сферы деятельности:')) # настраиваем легенду\n",
        "fig.show(\"png\")\n",
        "\n",
        "connection.close()"
      ]
    },
    {
      "cell_type": "markdown",
      "id": "3f519baa",
      "metadata": {},
      "source": [
        "***Общие комментарии и выводы:***\n",
        "\n",
        "*На основании проведенных исследований по завершению всех этапов анализа можно отметить следующие:*\n",
        "\n",
        "- *В базе HH.ru накоплен обширный диапазон регионов, компаний-работодателей, сфер их деятельности, но временной период (интервал времени) скорее всего взят небольшой этим объясняется не столь большой объем вакансий (всего 2 с небольшим раза больше количества работодателей).*\n",
        "\n",
        "- *Как видно из диаграммы наибольшую потребность в сотрудниках имеют компании-работодатели занятые в сферах деятельности такие, как: разработка программного обеспечения; системная интеграции, автоматизации технологических и бизнес-процессов предприятия, ИТ-консалтинг; интернет-компания(поисковики, платежные системы, социальные сети и прочее); банки, мобильная связь. Причем таже тенденция сохраняется практически не зависимо от опыта работы, отличие в последовательности наблюдаются лишь для соискателей без опыта работы, т.е. потребность в сотрудниках даже без опыта работы сохраняется в интернет-компаниях; в компаниях занимающихся разработкой программного обеспечения; системной интеграцией, автоматизацией технологических и бизнес-процессов предприятия, ИТ-консалтингом; мобильной связью и далее банки.* \n",
        "\n",
        " - *Наибольшее количество вакансий представлена с опытом работы от 1 года до 3 лет. Видно, что соискатели с большим опытом более 6 лет не слишком сильно представлены на платформе HH.ru. Скорее всего данные соискатели занимаюся поиском работы исходя из своих наработанных связей.*\n",
        "\n",
        "- *На протяжении всего исследования (на разных этапах и в различных примерах) прослеживается вполне объяснимая закономерность, особенность рынка труда, так в больших и огромных городах (мегаполисах) существует довольно большое количество предложений по трудоустройству (большое количество разных предприятий, разных представительств крупных фирм, торговых площадок, тц, большое количество людей в сфере обслуживания и т.д.), существует конкуренция между работодателями, а у работника есть выбор кому продать свои знания и умения подороже. Также жить в мегаполисе довольно дорогое удовольствие, поэтому и заработная плата нужна побольше, чем в небольших городах.*\n",
        "\n",
        "- *Следует отметить, что только 3553 компании из 23501, что составляет 15,1% компаний задействованы в сфере деятельности «Разработка программного обеспечения». И всего 3,6% от общего числа вакансий имеет отношение к данным, а для новичков без опыта работы и того меньше 0,1% от общего числа (в абсолютном соотношении 51 из 49197 вакансий) или 2,9% от числа вакансий связанных с данными (в абсолютном соотношении 51 из 1771 вакансии),что является довольно узким коридором возможностей.*\n",
        "\n",
        "- *В вакансиях для специалистов Data Science указывают в основном чуть более шести ключевых навыков. Из этих навыков знание языка программирования Python является довольно нужным и распространенным. 19,8% из числа вакансий для специалистов Data Science (или 0,7% от общего числа вакансий). А так же довольно высоко ценится такой навык, как умениия работать в postgres и знание SQL. 11,3% из числа вакансий (или 0,4% от общего числа вакансий).*\n",
        "\n",
        "- *Зарплата у специалистов Data Science находятся на хорошем уровне и зависит от опыта работы, как в прочем и у многих, но прогресс возрастания зарплаты от первого этапа к следующему этапу довольно высокий, так разница между средними зарплатами у специалистов без опыта работы (74643 руб.) и с опытом работы от 3 до 6 лет (139675 руб.) составляет - 65032 руб. (это на 87% больше чем на первой ступени зарплат), но и следующая разница между средними зарплатами у специалистов с опытом работы от 3 до 6 лет и от 3 до 6 лет (243115 руб.) впечатляет и составляет 103440 руб. (что на 74% больше чем на предыдущей ступени зарплат).*\n",
        "\n",
        "*Для уточнения данных и лучшего понимания динамики ситуации на рынке труда необходимы дополнительные данные: изменение данного процесса во временном периоде. А именно нужно проследить как повлияли на рынок труда санкции, кризис, уход инвестиций. Все это поможет осознать, что происходит на текущей момент, и составить возможный прогноз каким образом может развиваться ситуация на рынке труда (причем по возможности в нескольких вариантах). Это также даст возможность лучше проанализировать прогресс развития наших городов и в целом регионов.*"
      ]
    }
  ],
  "metadata": {
    "colab": {
      "collapsed_sections": [
        "8d62a9f3-f64e-4fe7-bdac-c4dffa16155e"
      ],
      "provenance": []
    },
    "kernelspec": {
      "display_name": "Python 3 (ipykernel)",
      "language": "python",
      "name": "python3"
    },
    "language_info": {
      "codemirror_mode": {
        "name": "ipython",
        "version": 3
      },
      "file_extension": ".py",
      "mimetype": "text/x-python",
      "name": "python",
      "nbconvert_exporter": "python",
      "pygments_lexer": "ipython3",
      "version": "3.9.10"
    }
  },
  "nbformat": 4,
  "nbformat_minor": 5
}
